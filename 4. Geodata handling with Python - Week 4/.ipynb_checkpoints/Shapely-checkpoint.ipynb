{
 "cells": [
  {
   "cell_type": "markdown",
   "metadata": {
    "id": "OzncvS5RImuE"
   },
   "source": [
    "# The Shapely Module\n",
    "\n",
    "## What is Shapely?\n",
    "\n",
    "Shapely is a Python module for the manipulation and analysis of planar geometric objects.\n",
    "\n",
    "![OGC Simple Features Access model](https://dataat.github.io/introducao-analise-de-dados-espaciais/res/1_intro/OGC_FIG.png)\n",
    "\n",
    "This figure shows a simplified class diagram of the Simple Features Access model. Points are represented by Point objects, lines by LineString objects, and polygons by the Polygon objects. Collections of points, lines and\n",
    "polygons are represented by the container classes MultiPoint, MultiLineString\n",
    "and MultiPolygon respectively.\n",
    "\n",
    "Polygons are constructed from LineStrings,\n",
    "and LineStrings are constructed from points.\n",
    "\n",
    "The other boxes are abstract\n",
    "classes and only show the abstract  relationships between the various spatial objects. In practice only the classes in blue\n",
    "boxes are used in Python code using the Shapely module.\n",
    "\n",
    "## Point data type\n",
    "\n",
    "The point data type in shapely is implemented by a Point class. The geometry element Point (note the capital letter!) takes coordinates as parameters.\n",
    "\n",
    "The coordinate values of points can be accessed through x, y, and z attributes using dot-notation. Below, we only consider the x and y dimensions of coordinates in a Cartesian plane (no coordinate projection), and leave out the height dimension z.\n",
    "\n",
    "A Point object is simply constructed by \"calling\" the class Point with the appropriate coordinates x and y. Point objects store the coordinates in attributes called–not surprisingly–x and y. The attributes are accessed using the dot-notation.\n",
    "\n",
    "But first we have to ensure the data files exist!"
   ]
  },
  {
   "cell_type": "code",
   "execution_count": 4,
   "metadata": {
    "colab": {
     "base_uri": "https://localhost:8080/"
    },
    "executionInfo": {
     "elapsed": 13,
     "status": "ok",
     "timestamp": 1741343442125,
     "user": {
      "displayName": "Wim H Bakker",
      "userId": "13780561155230702883"
     },
     "user_tz": -60
    },
    "id": "TrUFOXPWCakT",
    "outputId": "91d1dfd5-98da-4489-b062-e1f19ac0477d"
   },
   "outputs": [
    {
     "name": "stdout",
     "output_type": "stream",
     "text": [
      "True\n",
      "True\n"
     ]
    }
   ],
   "source": [
    "import os\n",
    "\n",
    "print(os.path.exists('/content/drive/MyDrive/Colab Notebooks/deaths.txt'))\n",
    "print(os.path.exists('/content/drive/MyDrive/Colab Notebooks/pumps.txt'))"
   ]
  },
  {
   "cell_type": "markdown",
   "metadata": {
    "id": "HtCo6o6dKJ9v"
   },
   "source": [
    "If these files are missing, please go back to the canvas page and follow the instructions to download the required data files.\n",
    "\n",
    "In the following code we import the class Point of Shapely and create the point object with coordinates 10.0, 10.0."
   ]
  },
  {
   "cell_type": "code",
   "execution_count": 5,
   "metadata": {
    "colab": {
     "base_uri": "https://localhost:8080/"
    },
    "executionInfo": {
     "elapsed": 123,
     "status": "ok",
     "timestamp": 1741343640743,
     "user": {
      "displayName": "Wim H Bakker",
      "userId": "13780561155230702883"
     },
     "user_tz": -60
    },
    "id": "RR848iC4KgW0",
    "outputId": "d6b0cab7-bebc-47d4-b767-7eaf74fa17a9"
   },
   "outputs": [
    {
     "name": "stdout",
     "output_type": "stream",
     "text": [
      "10.0 10.0\n"
     ]
    }
   ],
   "source": [
    "from shapely.geometry import Point\n",
    "\n",
    "point = Point(10.0, 10.0)\n",
    "print(point.x, point.y)"
   ]
  },
  {
   "cell_type": "markdown",
   "metadata": {
    "id": "tGN6ELesKAi_"
   },
   "source": [
    "## LineStrings\n",
    "\n",
    "By definition a line is made up by two or more points. These can be assembled\n",
    "into a LineString by specifying an ordered set of coordinates. LineString objects\n",
    "can simply be constructed from a list of coordinate tuples.\n",
    "\n",
    "For instance, in the\n",
    "following code we construct a line from the points (1, 2) to (3, 4). Immediately the\n",
    "line object is also aware of its total length. The length of a line can be obtained\n",
    "from its `length` attribute.\n",
    "\n",
    "First, we import the LineString class of Shapely."
   ]
  },
  {
   "cell_type": "code",
   "execution_count": 6,
   "metadata": {
    "colab": {
     "base_uri": "https://localhost:8080/"
    },
    "executionInfo": {
     "elapsed": 7,
     "status": "ok",
     "timestamp": 1741343982692,
     "user": {
      "displayName": "Wim H Bakker",
      "userId": "13780561155230702883"
     },
     "user_tz": -60
    },
    "id": "CtU-RE0EL4W-",
    "outputId": "bbde9ee6-9e3a-4a38-fddb-2240db52c487"
   },
   "outputs": [
    {
     "data": {
      "text/plain": [
       "2.8284271247461903"
      ]
     },
     "execution_count": 6,
     "metadata": {},
     "output_type": "execute_result"
    }
   ],
   "source": [
    "from shapely.geometry import LineString\n",
    "\n",
    "line = LineString([(1, 2), (3, 4)])\n",
    "line.length"
   ]
  },
  {
   "cell_type": "markdown",
   "metadata": {
    "id": "kvHnd5DELo8N"
   },
   "source": [
    "## Polygons\n",
    "\n",
    "A polygon is created by specifying a sequence representing a closed ring as\n",
    "below. If the final coordinates do not close the ring but are located close to the\n",
    "first coordinate, the polygon will (conveniently) be closed automatically.\n",
    "\n",
    "But first we have to import the Polygon class of Shapely."
   ]
  },
  {
   "cell_type": "code",
   "execution_count": 7,
   "metadata": {
    "colab": {
     "base_uri": "https://localhost:8080/"
    },
    "executionInfo": {
     "elapsed": 6,
     "status": "ok",
     "timestamp": 1741344076403,
     "user": {
      "displayName": "Wim H Bakker",
      "userId": "13780561155230702883"
     },
     "user_tz": -60
    },
    "id": "GV_f8_uYJ95V",
    "outputId": "c39a0181-6d63-41ae-d9f9-e58395e34161"
   },
   "outputs": [
    {
     "data": {
      "text/plain": [
       "9.0"
      ]
     },
     "execution_count": 7,
     "metadata": {},
     "output_type": "execute_result"
    }
   ],
   "source": [
    "from shapely.geometry import Polygon\n",
    "\n",
    "polygon = Polygon([(1,1),(4, 1),(4,4),(1,4),(1,1)])\n",
    "polygon.area"
   ]
  },
  {
   "cell_type": "markdown",
   "metadata": {
    "id": "NfFnwviGMjU3"
   },
   "source": [
    "## MultiPoints, MultiLines, MultiPolygons\n",
    "\n",
    "Collections of points are implemented by a MultiPoint class, collections of\n",
    "curves by a MultiLineString class, and collections of surfaces by a MultiPolygon class. These collections are not computationally significant, but are useful\n",
    "for representing certain types of features. A Y-shaped line feature, for exam-\n",
    "ple, is well-modelled as a whole by a MultiLineString. A MultiPoint geometry\n",
    "is created by specifying a sequence of coordinates, or an existing list of point\n",
    "coordinate tuples. With the `wkt` attribute\n",
    "the MultiPoint object is represented in the well-known text format. Check, for instance, Wikipedia:\n",
    "![Well-known text representation of geometry](https://en.wikipedia.org/wiki/Well-known_text_representation_of_geometry)."
   ]
  },
  {
   "cell_type": "code",
   "execution_count": 10,
   "metadata": {
    "colab": {
     "base_uri": "https://localhost:8080/",
     "height": 35
    },
    "executionInfo": {
     "elapsed": 58,
     "status": "ok",
     "timestamp": 1741344311147,
     "user": {
      "displayName": "Wim H Bakker",
      "userId": "13780561155230702883"
     },
     "user_tz": -60
    },
    "id": "ATZnuYhsMxur",
    "outputId": "e2b61dbd-7aeb-42b5-a210-1cf54fd20927"
   },
   "outputs": [
    {
     "data": {
      "application/vnd.google.colaboratory.intrinsic+json": {
       "type": "string"
      },
      "text/plain": [
       "'MULTIPOINT (1 1, 2 2, 3 3, 4 4)'"
      ]
     },
     "execution_count": 10,
     "metadata": {},
     "output_type": "execute_result"
    }
   ],
   "source": [
    "from shapely.geometry import MultiPoint\n",
    "\n",
    "mypointlist = [(1,1),(2,2),(3,3),(4,4)]\n",
    "\n",
    "points = MultiPoint(mypointlist)\n",
    "\n",
    "points.wkt"
   ]
  },
  {
   "cell_type": "markdown",
   "metadata": {
    "id": "q_l_y34XOc6W"
   },
   "source": [
    "In the remainder of this document, we illustrate the application of spatial data\n",
    "processing with an example of one of the first uses of spatial analysis in solving health problems."
   ]
  },
  {
   "cell_type": "code",
   "execution_count": null,
   "metadata": {
    "id": "2aQemrB-Ob-C"
   },
   "outputs": [],
   "source": []
  },
  {
   "cell_type": "markdown",
   "metadata": {
    "id": "9dJ8SumfeLp5"
   },
   "source": [
    "## Example: John Snow and his cholera map\n",
    "\n",
    "There is some debate as to the specifics of this event, but it is generally accepted\n",
    "to be one of the first uses of spatial analysis in solving health problems.\n",
    "As the story goes, British physician Dr John Snow was attempting to identify the nature and cause of the Cholera outbreak in London in the 1850's. He\n",
    "suspected that the deaths had something to do with the water supply, so he\n",
    "used a point map to locate all the deaths and also all of the pumps in the area.\n",
    "\n",
    "His simple but effective approach was to look at the distributions of deaths\n",
    "relative to each water pump, and he was able to conclude that one of the pumps\n",
    "(and therefore the well it pumped water from) seemed to be causing the problems. The pump handle of the suspected pump was removed, with an observable reduction in the ensuing number of new Cholera cases. And thus he\n",
    "demonstrated that cholera is a waterborne disease. This was not previously\n",
    "understood. The map is the most famous and classical example in the field of\n",
    "medical cartography.\n",
    "\n",
    "The data is made available in two files which were digitized from the original map included in the book by John Snow. The scale of the source map is approx. 1:2000. Coordinate units are meters. The data in these files consists of:\n",
    "- the location of 578 deaths from cholera `deaths.txt`\n",
    "- the position of 13 water pumps `pumps.txt`\n",
    "\n",
    "Each coordinate point in the file `deaths` specifies the address of a person\n",
    "who died from cholera. When many points are associated with a single street\n",
    "address, they are ”stacked” in a line away from the street so that they are more\n",
    "easily visualized. This is how they are displayed on John Snow's original map\n",
    "\n",
    "For an algorithmic solution to this problem, we can formulate the following\n",
    "steps:\n",
    "```text\n",
    "Read the deaths location data from file\n",
    "Read the pump location data from file\n",
    "\n",
    "For each pump:\n",
    "    Find the cases that might be attributed to this pump\n",
    "        Sum all the number of death cases for this pump\n",
    "        Store it for the current pump\n",
    "    Remember the pump with highest count of death cases so far\n",
    "\n",
    "Print the location of the pump with the largest number of deaths\n",
    "```\n",
    "\n",
    "Let us now formulate a computational solution to this problem. The solution should loop over each well point, sum the relevant death cases, and when\n",
    "done, find the well with the highest total deaths in its vicinity.\n",
    "\n",
    "One issue is how to determine which 'cases' belong to which well. There\n",
    "are various ways to do this, but a simple method is to create an equidistant\n",
    "area around each well (also known as a 'buffer') and then count the number of\n",
    "cases or deaths that occurred within it.\n",
    "\n",
    "Using this approach, one would expect that the area with the highest frequency of deaths should be investigated further. Of course this is quite a simplification, but as with most analytical approaches, it is good to begin with a simple approach and gradually develop more complexity.\n",
    "\n",
    "Let's begin with a\n",
    "simple case for creating a buffer around a point:"
   ]
  },
  {
   "cell_type": "code",
   "execution_count": 11,
   "metadata": {
    "colab": {
     "base_uri": "https://localhost:8080/"
    },
    "executionInfo": {
     "elapsed": 8,
     "status": "ok",
     "timestamp": 1741349262438,
     "user": {
      "displayName": "Wim H Bakker",
      "userId": "13780561155230702883"
     },
     "user_tz": -60
    },
    "id": "ehb5IWZ4f8ss",
    "outputId": "df5f8243-ce5b-4347-95d4-b41ffbfed967"
   },
   "outputs": [
    {
     "name": "stdout",
     "output_type": "stream",
     "text": [
      "<class 'shapely.geometry.polygon.Polygon'>\n",
      "1254.619396218376\n"
     ]
    }
   ],
   "source": [
    "from shapely.geometry import Point\n",
    "\n",
    "case = Point(10,20)\n",
    "casearea = case.buffer(20)\n",
    "print(type(casearea))\n",
    "print(casearea.area)"
   ]
  },
  {
   "cell_type": "markdown",
   "metadata": {
    "id": "PTQNTisLgW_y"
   },
   "source": [
    "We can also write this in much more efficient notation, using point methods.\n",
    "For example, to find the area of the buffer zone as above:"
   ]
  },
  {
   "cell_type": "code",
   "execution_count": 13,
   "metadata": {
    "colab": {
     "base_uri": "https://localhost:8080/"
    },
    "executionInfo": {
     "elapsed": 14,
     "status": "ok",
     "timestamp": 1741349320514,
     "user": {
      "displayName": "Wim H Bakker",
      "userId": "13780561155230702883"
     },
     "user_tz": -60
    },
    "id": "xlaBy0MxgZZA",
    "outputId": "73d3be4d-c9a1-49d9-d66e-3e9ec0e27410"
   },
   "outputs": [
    {
     "data": {
      "text/plain": [
       "1254.619396218376"
      ]
     },
     "execution_count": 13,
     "metadata": {},
     "output_type": "execute_result"
    }
   ],
   "source": [
    "(Point(10,20).buffer(20)).area"
   ]
  },
  {
   "cell_type": "markdown",
   "metadata": {
    "id": "W4AjNSwHgmFp"
   },
   "source": [
    "It is time to solve the remainder of the issues. We need to read the data,\n",
    "loop over all of the pumps, create a buffer for each, and count the number of\n",
    "deaths within the service area of a pump.\n",
    "\n",
    "First we import the standard Python module csv for reading csv files. The\n",
    "data files are simple comma-separated values, one coordinate pair per line, and\n",
    "the csv module is perfectly suited for reading the data for us.\n",
    "\n",
    "Furthermore we need to import the MultiPoint class from shapely.\n",
    "\n",
    "And we encapsulate the reading of the text files in a function for loading csv\n",
    "data files. The comment in the code explains how it’s done."
   ]
  },
  {
   "cell_type": "code",
   "execution_count": 17,
   "metadata": {
    "executionInfo": {
     "elapsed": 2,
     "status": "ok",
     "timestamp": 1741349631832,
     "user": {
      "displayName": "Wim H Bakker",
      "userId": "13780561155230702883"
     },
     "user_tz": -60
    },
    "id": "-aqicFB1gj_z"
   },
   "outputs": [],
   "source": [
    "import csv\n",
    "from shapely.geometry import MultiPoint\n",
    "\n",
    "def read_csv(filename):\n",
    "  # open the file for reading\n",
    "  f = open(filename, 'r')\n",
    "  # create a csv reader object\n",
    "  # this can read the Comma Separated Values file format\n",
    "  # default field delimiter is a comma ','\n",
    "  # and strings are automatically converted to floats\n",
    "  cr = csv.reader(f, quoting=csv.QUOTE_NONNUMERIC)\n",
    "  # read the entire file into a list of [x, y] coordinates\n",
    "  l = list(cr)\n",
    "  # delete the csv reader object\n",
    "  del cr\n",
    "  # and close the file\n",
    "  f.close()\n",
    "  #return the list of coordinates\n",
    "  return l"
   ]
  },
  {
   "cell_type": "markdown",
   "metadata": {
    "id": "71_NydCzhGMf"
   },
   "source": [
    "Now it's time to read the data and start the analysis. Read the csv data files\n",
    "into a list of x and y coordinates.\n",
    "\n",
    "What do these lists look like?"
   ]
  },
  {
   "cell_type": "code",
   "execution_count": 18,
   "metadata": {
    "executionInfo": {
     "elapsed": 753,
     "status": "ok",
     "timestamp": 1741349638806,
     "user": {
      "displayName": "Wim H Bakker",
      "userId": "13780561155230702883"
     },
     "user_tz": -60
    },
    "id": "6r9SeiiphJsh"
   },
   "outputs": [],
   "source": [
    "death_list = read_csv('/content/drive/MyDrive/Colab Notebooks/deaths.txt')\n",
    "pump_list = read_csv('/content/drive/MyDrive/Colab Notebooks/pumps.txt')"
   ]
  },
  {
   "cell_type": "markdown",
   "metadata": {
    "id": "qjN559D_hNaY"
   },
   "source": [
    "And directly convert these lists into MultiPoint geometries."
   ]
  },
  {
   "cell_type": "code",
   "execution_count": 19,
   "metadata": {
    "executionInfo": {
     "elapsed": 3,
     "status": "ok",
     "timestamp": 1741349644386,
     "user": {
      "displayName": "Wim H Bakker",
      "userId": "13780561155230702883"
     },
     "user_tz": -60
    },
    "id": "nsFnLW8IhRXe"
   },
   "outputs": [],
   "source": [
    "deaths = MultiPoint(death_list)\n",
    "pumps = MultiPoint(pump_list)"
   ]
  },
  {
   "cell_type": "markdown",
   "metadata": {
    "id": "LE_dQGm3hXkV"
   },
   "source": [
    "Now we have to find the maximum value of deaths per pump service area.\n",
    "The trick here is to define the pump service area as a buffer zone of distance\n",
    "of 3 units around the pump.\n",
    "\n",
    "The crucial operation in these lines of code is the\n",
    "following expression:\n",
    "```python\n",
    "deaths_per_pump = pumps[i].buffer(3).intersection(deaths)\n",
    "```\n",
    "\n",
    "In this line we calculate a buffer around pump number `i` and intersect this\n",
    "circle with the multi-point collection of death cases. The result of this intersection should be 0, 1, or more points. Zero points will be returned as a GeometryCollection object. One Point will be returned as a single Point object. More\n",
    "points will be returned as a MultiPoint object.\n",
    "\n",
    "Counting is easy by counting the\n",
    "number of objects in a collection by calling the standard `len()` function. However, unfortunately, a Point object is is not a collection and trying to determine\n",
    "the `len()` of a Point object will fail and raise an exception. In the code below we\n",
    "simply catch the error with a trystatement and set death count to 1 on an error.\n",
    "\n",
    "The last if-statement keeps track of the pump with the largest number of\n",
    "death cases."
   ]
  },
  {
   "cell_type": "code",
   "execution_count": 24,
   "metadata": {
    "executionInfo": {
     "elapsed": 2,
     "status": "ok",
     "timestamp": 1741350053989,
     "user": {
      "displayName": "Wim H Bakker",
      "userId": "13780561155230702883"
     },
     "user_tz": -60
    },
    "id": "aBrbqcuJhegc"
   },
   "outputs": [],
   "source": [
    "max_deaths = 0\n",
    "\n",
    "# loop over the pumps\n",
    "for i in range(len(pumps.geoms)):\n",
    "  # per per pump zone get the deaths in that zone\n",
    "  # a pump zone is a buffer around the pump at distance 3\n",
    "  deaths_per_pump = pumps.geoms[i].buffer(3).intersection(deaths)\n",
    "\n",
    "  # The catch here is that the intersection returns either:\n",
    "  # - an GeometryCollection that contains zero Points, or\n",
    "  # - a single Point object, or\n",
    "  # - a MultiPoint object containing multiple Points\n",
    "  # Only GeometryCollection and MultiPoint are sequences!\n",
    "  # We use a try-statement here to catch errors and\n",
    "  # set the count to 1 in case of a Point.\n",
    "\n",
    "  try:\n",
    "    death_count = len(deaths_per_pump)\n",
    "  except:\n",
    "    death_count = 1\n",
    "\n",
    "  # keep track of the maximum and this pump number\n",
    "  if death_count > max_deaths:\n",
    "    max_deaths = death_count\n",
    "    max_pump = i"
   ]
  },
  {
   "cell_type": "markdown",
   "metadata": {
    "id": "wecLu_sMjWUv"
   },
   "source": [
    "When the loop is finished it is easy to get the pump point with the maximum death count.\n",
    "\n",
    "Finally, we print the coordinates of the pump in the well-known text format (WKT)."
   ]
  },
  {
   "cell_type": "code",
   "execution_count": 25,
   "metadata": {
    "colab": {
     "base_uri": "https://localhost:8080/"
    },
    "executionInfo": {
     "elapsed": 4,
     "status": "ok",
     "timestamp": 1741350104379,
     "user": {
      "displayName": "Wim H Bakker",
      "userId": "13780561155230702883"
     },
     "user_tz": -60
    },
    "id": "Gogdaq_3jcHq",
    "outputId": "100b1e0a-78cf-465a-988e-556af7e1a674"
   },
   "outputs": [
    {
     "name": "stdout",
     "output_type": "stream",
     "text": [
      "POINT (8.6512012 17.8915997)\n"
     ]
    }
   ],
   "source": [
    "the_pump = pumps.geoms[max_pump]\n",
    "print(the_pump.wkt)"
   ]
  },
  {
   "cell_type": "markdown",
   "metadata": {
    "id": "sz9HLO3JjjoF"
   },
   "source": [
    "Putting it all together, and leaving out the comment lines, gives us a compact code that finds the fouled pump:"
   ]
  },
  {
   "cell_type": "code",
   "execution_count": 31,
   "metadata": {
    "colab": {
     "base_uri": "https://localhost:8080/"
    },
    "executionInfo": {
     "elapsed": 5,
     "status": "ok",
     "timestamp": 1741350419870,
     "user": {
      "displayName": "Wim H Bakker",
      "userId": "13780561155230702883"
     },
     "user_tz": -60
    },
    "id": "d0ErQMyOjnZl",
    "outputId": "4f909453-ca9c-4fd5-b547-2077e9c319a9"
   },
   "outputs": [
    {
     "name": "stdout",
     "output_type": "stream",
     "text": [
      "POINT (12.5713596 11.72717)\n"
     ]
    }
   ],
   "source": [
    "import csv\n",
    "from shapely.geometry import MultiPoint\n",
    "\n",
    "def read_csv(filename):\n",
    "  f = open(filename, 'r')\n",
    "  cr = csv.reader(f, quoting=csv.QUOTE_NONNUMERIC)\n",
    "  l = list(cr)\n",
    "  del cr\n",
    "  f.close()\n",
    "  return l\n",
    "\n",
    "death_list = read_csv('/content/drive/MyDrive/Colab Notebooks/deaths.txt')\n",
    "pump_list = read_csv('/content/drive/MyDrive/Colab Notebooks/pumps.txt')\n",
    "\n",
    "deaths = MultiPoint(death_list)\n",
    "pumps = MultiPoint(pump_list)\n",
    "\n",
    "max_deaths = 0\n",
    "\n",
    "for i in range(len(pumps.geoms)):\n",
    "  deaths_per_pump = pumps.geoms[i].buffer(3).intersection(deaths)\n",
    "\n",
    "  death_count = 1 if isinstance(deaths_per_pump, Point) else len(deaths_per_pump.geoms)\n",
    "  if death_count > max_deaths:\n",
    "    max_deaths = death_count\n",
    "    max_pump = i\n",
    "\n",
    "the_pump = pumps.geoms[max_pump]\n",
    "print(the_pump.wkt)"
   ]
  },
  {
   "cell_type": "markdown",
   "metadata": {
    "id": "p1M55LpUlNog"
   },
   "source": [
    "With a bit of effort we can plot all the data. With the suspected pump as a cyan diamond marker. Pumps as black stars, buffers as blue circles, death cases as red dots."
   ]
  },
  {
   "cell_type": "code",
   "execution_count": 37,
   "metadata": {
    "colab": {
     "base_uri": "https://localhost:8080/",
     "height": 452
    },
    "executionInfo": {
     "elapsed": 800,
     "status": "ok",
     "timestamp": 1741351035392,
     "user": {
      "displayName": "Wim H Bakker",
      "userId": "13780561155230702883"
     },
     "user_tz": -60
    },
    "id": "K94biamZkzc3",
    "outputId": "43adb028-e9a1-499a-879c-dff87fe18749"
   },
   "outputs": [
    {
     "data": {
      "image/png": "[encoded data removed]",
      "text/plain": [
       "<Figure size 640x480 with 1 Axes>"
      ]
     },
     "metadata": {},
     "output_type": "display_data"
    }
   ],
   "source": [
    "# Plotting it\n",
    "from pylab import *\n",
    "\n",
    "# function for plotting a multipoint layer\n",
    "def plot_multipoint(mp, fmt):\n",
    "    for p in mp.geoms:\n",
    "        plot(p.x, p.y, fmt)\n",
    "\n",
    "# function for plotting the buffers\n",
    "def plot_buffers(mp, radius, fmt):\n",
    "    for p in mp.geoms:\n",
    "        x, y = zip(*p.buffer(radius).exterior.coords)\n",
    "        plot(x, y, fmt)\n",
    "\n",
    "# plot the deaths\n",
    "plot_multipoint(deaths, '.r')\n",
    "\n",
    "# plot the pumps\n",
    "plot_multipoint(pumps, '*k')\n",
    "\n",
    "# plot the buffers around the pumps\n",
    "plot_buffers(pumps, 3, '-b')\n",
    "\n",
    "# plot the foul pump\n",
    "plot(the_pump.x, the_pump.y, 'Dc',)\n",
    "\n",
    "# give the plot a title\n",
    "title('John Snow\\'s cholera map')\n",
    "\n",
    "# make the axis have equal spacing\n",
    "axis('equal');"
   ]
  }
 ],
 "metadata": {
  "colab": {
   "authorship_tag": "ABX9TyPLvyegH5qubxqAs5hFb6eE",
   "mount_file_id": "1E-b36IpMY9sOCxNlimlG0rCkrkFL2u10",
   "provenance": []
  },
  "kernelspec": {
   "display_name": "Python 3",
   "name": "python3"
  },
  "language_info": {
   "name": "python"
  }
 },
 "nbformat": 4,
 "nbformat_minor": 0
}
