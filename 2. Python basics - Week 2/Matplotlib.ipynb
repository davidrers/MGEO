{
 "cells": [
  {
   "cell_type": "markdown",
   "metadata": {
    "id": "xYMdzt9kfO1R"
   },
   "source": [
    "# Matplotlib examples\n",
    "\n",
    "To get the flavour of what is possible with matplotlib, we'll present a number of examples. Study the code to see how it's done."
   ]
  },
  {
   "cell_type": "markdown",
   "metadata": {
    "id": "pbFRZu3hfm9z"
   },
   "source": [
    "## Import Matplotlib and Numpy\n",
    "\n",
    "First, we have to import matplotlib and numpy.\n",
    "\n",
    "In case of doubt, consult the matplotlib manual:\n",
    "[Matplotlib documentation](https://matplotlib.org/stable/index.html)"
   ]
  },
  {
   "cell_type": "code",
   "execution_count": null,
   "metadata": {
    "executionInfo": {
     "elapsed": 3,
     "status": "ok",
     "timestamp": 1741097490764,
     "user": {
      "displayName": "Wim H Bakker",
      "userId": "13780561155230702883"
     },
     "user_tz": -60
    },
    "id": "VETX7PhMfxGs"
   },
   "outputs": [],
   "source": [
    "import matplotlib.pyplot as plt\n",
    "import numpy as np"
   ]
  },
  {
   "cell_type": "markdown",
   "metadata": {
    "id": "uDsETEpqekmB"
   },
   "source": [
    "## Create a Simple Line Plot\n",
    "\n",
    "Note the use of labels and title."
   ]
  },
  {
   "cell_type": "code",
   "execution_count": null,
   "metadata": {
    "colab": {
     "base_uri": "https://localhost:8080/",
     "height": 472
    },
    "executionInfo": {
     "elapsed": 549,
     "status": "ok",
     "timestamp": 1741097492613,
     "user": {
      "displayName": "Wim H Bakker",
      "userId": "13780561155230702883"
     },
     "user_tz": -60
    },
    "id": "Et6_GGIsetxA",
    "outputId": "25fa3a59-8e57-44c8-bdfe-ff58eb42598c"
   },
   "outputs": [],
   "source": [
    "# Sample data\n",
    "x = np.linspace(0, 10, 100)\n",
    "y = np.sin(x)\n",
    "\n",
    "# Create plot\n",
    "plt.plot(x, y, label=\"Sine Wave\")\n",
    "plt.xlabel(\"X-axis\")\n",
    "plt.ylabel(\"Y-axis\")\n",
    "plt.title(\"Simple Line Plot\")\n",
    "plt.legend()\n",
    "plt.show()"
   ]
  },
  {
   "cell_type": "markdown",
   "metadata": {
    "id": "C04e_y3rezO8"
   },
   "source": [
    "## Scatter Plot Example\n",
    "\n",
    "Note the use of marker types and colors."
   ]
  },
  {
   "cell_type": "code",
   "execution_count": null,
   "metadata": {
    "colab": {
     "base_uri": "https://localhost:8080/",
     "height": 472
    },
    "executionInfo": {
     "elapsed": 263,
     "status": "ok",
     "timestamp": 1741097496512,
     "user": {
      "displayName": "Wim H Bakker",
      "userId": "13780561155230702883"
     },
     "user_tz": -60
    },
    "id": "5dsMs2Kae1xc",
    "outputId": "2e0878fd-0ae8-4605-9477-e6e66dc1756c"
   },
   "outputs": [],
   "source": [
    "x = np.random.rand(50)\n",
    "y = np.random.rand(50)\n",
    "\n",
    "plt.scatter(x, y, color=\"red\", marker=\"o\")\n",
    "plt.xlabel(\"X-axis\")\n",
    "plt.ylabel(\"Y-axis\")\n",
    "plt.title(\"Scatter Plot Example\")\n",
    "plt.show()"
   ]
  },
  {
   "cell_type": "markdown",
   "metadata": {
    "id": "ign6Ap81e5zP"
   },
   "source": [
    "## Bar Chart Example"
   ]
  },
  {
   "cell_type": "code",
   "execution_count": null,
   "metadata": {
    "colab": {
     "base_uri": "https://localhost:8080/",
     "height": 472
    },
    "executionInfo": {
     "elapsed": 177,
     "status": "ok",
     "timestamp": 1741097500313,
     "user": {
      "displayName": "Wim H Bakker",
      "userId": "13780561155230702883"
     },
     "user_tz": -60
    },
    "id": "7lv57h-5e7tC",
    "outputId": "4590a365-3b95-4b64-e262-bced8692ecdd"
   },
   "outputs": [],
   "source": [
    "categories = [\"A\", \"B\", \"C\", \"D\"]\n",
    "values = [10, 15, 7, 12]\n",
    "\n",
    "plt.bar(categories, values, color=\"blue\")\n",
    "plt.xlabel(\"Categories\")\n",
    "plt.ylabel(\"Values\")\n",
    "plt.title(\"Bar Chart Example\")\n",
    "plt.show()"
   ]
  },
  {
   "cell_type": "markdown",
   "metadata": {
    "id": "iuNjK-1oe_Nz"
   },
   "source": [
    "## Histogram Example\n",
    "\n",
    "Note the use of the bins keyword. What happens if you change the value to, say, 100?\n",
    "\n",
    "What happens if you runs this code again? Do you get the same curve?"
   ]
  },
  {
   "cell_type": "code",
   "execution_count": null,
   "metadata": {
    "colab": {
     "base_uri": "https://localhost:8080/",
     "height": 472
    },
    "executionInfo": {
     "elapsed": 151,
     "status": "ok",
     "timestamp": 1741097827503,
     "user": {
      "displayName": "Wim H Bakker",
      "userId": "13780561155230702883"
     },
     "user_tz": -60
    },
    "id": "00w9H734fETX",
    "outputId": "13f60465-9b48-4903-9674-437a842625c1"
   },
   "outputs": [],
   "source": [
    "data = np.random.randn(1000)\n",
    "\n",
    "plt.hist(data, bins=30, color=\"green\", edgecolor=\"black\")\n",
    "plt.xlabel(\"Value\")\n",
    "plt.ylabel(\"Frequency\")\n",
    "plt.title(\"Histogram Example\")\n",
    "plt.show()"
   ]
  },
  {
   "cell_type": "markdown",
   "metadata": {
    "id": "SrmqrAdgfHVR"
   },
   "source": [
    "## Display Multiple Plots\n",
    "\n",
    "Study the code below. Where do the variables x and y come from?"
   ]
  },
  {
   "cell_type": "code",
   "execution_count": null,
   "metadata": {
    "colab": {
     "base_uri": "https://localhost:8080/",
     "height": 802
    },
    "executionInfo": {
     "elapsed": 660,
     "status": "ok",
     "timestamp": 1741097509281,
     "user": {
      "displayName": "Wim H Bakker",
      "userId": "13780561155230702883"
     },
     "user_tz": -60
    },
    "id": "YIb6cwHTfJPL",
    "outputId": "38225966-1eea-4359-e84b-c0cf040e6ed8"
   },
   "outputs": [],
   "source": [
    "fig, axs = plt.subplots(2, 2, figsize=(10, 8))\n",
    "\n",
    "# Line Plot\n",
    "axs[0, 0].plot(x, y, color=\"blue\")\n",
    "axs[0, 0].set_title(\"Line Plot\")\n",
    "\n",
    "# Scatter Plot\n",
    "axs[0, 1].scatter(x, y, color=\"red\")\n",
    "axs[0, 1].set_title(\"Scatter Plot\")\n",
    "\n",
    "# Bar Chart\n",
    "axs[1, 0].bar(categories, values, color=\"purple\")\n",
    "axs[1, 0].set_title(\"Bar Chart\")\n",
    "\n",
    "# Histogram\n",
    "axs[1, 1].hist(data, bins=20, color=\"green\")\n",
    "axs[1, 1].set_title(\"Histogram\")\n",
    "\n",
    "plt.tight_layout()\n",
    "plt.show()"
   ]
  }
 ],
 "metadata": {
  "colab": {
   "authorship_tag": "ABX9TyMZ/m6WfKXREAaE7wJE/x5/",
   "provenance": []
  },
  "kernelspec": {
   "display_name": "Python",
   "language": "python",
   "name": "python3"
  },
  "language_info": {
   "codemirror_mode": {
    "name": "ipython",
    "version": 3
   },
   "file_extension": ".py",
   "mimetype": "text/x-python",
   "name": "python",
   "nbconvert_exporter": "python",
   "pygments_lexer": "ipython3",
   "version": "3.8.10"
  }
 },
 "nbformat": 4,
 "nbformat_minor": 4
}
