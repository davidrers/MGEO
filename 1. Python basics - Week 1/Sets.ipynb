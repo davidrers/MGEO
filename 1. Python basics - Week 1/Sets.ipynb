{
 "cells": [
  {
   "cell_type": "markdown",
   "id": "7ddcece8",
   "metadata": {
    "id": "7ddcece8"
   },
   "source": [
    "## Sets\n",
    "\n",
    "Python provides a class called `set` that represents a collection of unique elements.\n",
    "To create an empty set, we can use the class object like a function."
   ]
  },
  {
   "cell_type": "code",
   "execution_count": null,
   "id": "77f98242",
   "metadata": {
    "id": "77f98242"
   },
   "outputs": [],
   "source": [
    "s1 = set()\n",
    "s1"
   ]
  },
  {
   "cell_type": "markdown",
   "id": "904e2071",
   "metadata": {
    "id": "904e2071"
   },
   "source": [
    "We can use the `add` method to add elements."
   ]
  },
  {
   "cell_type": "code",
   "execution_count": null,
   "id": "85157902",
   "metadata": {
    "id": "85157902"
   },
   "outputs": [],
   "source": [
    "s1.add('a')\n",
    "s1.add('b')\n",
    "s1"
   ]
  },
  {
   "cell_type": "markdown",
   "id": "beee02fc",
   "metadata": {
    "id": "beee02fc"
   },
   "source": [
    "Or we can pass any kind of sequence to `set`."
   ]
  },
  {
   "cell_type": "code",
   "execution_count": null,
   "id": "b470e34a",
   "metadata": {
    "id": "b470e34a"
   },
   "outputs": [],
   "source": [
    "s2 = set('acd')\n",
    "s2"
   ]
  },
  {
   "cell_type": "markdown",
   "id": "42f99153",
   "metadata": {
    "id": "42f99153"
   },
   "source": [
    "An element can only appear once in a `set`.\n",
    "If you add an element that's already there, it has no effect."
   ]
  },
  {
   "cell_type": "code",
   "execution_count": null,
   "id": "e6a2d78b",
   "metadata": {
    "id": "e6a2d78b"
   },
   "outputs": [],
   "source": [
    "s1.add('a')\n",
    "s1"
   ]
  },
  {
   "cell_type": "markdown",
   "id": "9b0a82ee",
   "metadata": {
    "id": "9b0a82ee"
   },
   "source": [
    "Or if you create a set with a sequence that contains duplicates, the result contains only unique elements."
   ]
  },
  {
   "cell_type": "code",
   "execution_count": null,
   "id": "a4f5ff4f",
   "metadata": {
    "id": "a4f5ff4f"
   },
   "outputs": [],
   "source": [
    "set('banana')"
   ]
  },
  {
   "cell_type": "markdown",
   "id": "328e2009",
   "metadata": {
    "id": "328e2009"
   },
   "source": [
    "Some of the exercises in this book can be done concisely and efficiently with sets.\n",
    "For example, here is a solution to an exercise in Chapter 11 that uses a dictionary to check whether there are any duplicate elements in a sequence."
   ]
  },
  {
   "cell_type": "code",
   "execution_count": null,
   "id": "483046f2",
   "metadata": {
    "id": "483046f2"
   },
   "outputs": [],
   "source": [
    "def has_duplicates(t):\n",
    "    d = {}\n",
    "    for x in t:\n",
    "        d[x] = True\n",
    "    return len(d) < len(t)"
   ]
  },
  {
   "cell_type": "markdown",
   "id": "0b250e58",
   "metadata": {
    "id": "0b250e58"
   },
   "source": [
    "This version adds the element of `t` as keys in a dictionary, and then checks whether there are fewer keys than elements.\n",
    "Using sets, we can write the same function like this."
   ]
  },
  {
   "cell_type": "code",
   "execution_count": null,
   "id": "fe22c739",
   "metadata": {
    "id": "fe22c739"
   },
   "outputs": [],
   "source": [
    "def has_duplicates(t):\n",
    "    s = set(t)\n",
    "    return len(s) < len(t)"
   ]
  },
  {
   "cell_type": "code",
   "execution_count": null,
   "id": "3bbd3b72",
   "metadata": {
    "id": "3bbd3b72",
    "tags": []
   },
   "outputs": [],
   "source": [
    "has_duplicates('abba')"
   ]
  },
  {
   "cell_type": "markdown",
   "id": "30cf3158",
   "metadata": {
    "id": "30cf3158"
   },
   "source": [
    "An element can only appear in a set once, so if an element in `t` appears more than once, the set will be smaller than `t`.\n",
    "If there are no duplicates, the set will be the same size as `t`.\n",
    "\n",
    "`set` objects provide methods that perform set operations.\n",
    "For example, `union` computes the union of two sets, which is a new set that contains all elements that appear in either set."
   ]
  },
  {
   "cell_type": "code",
   "execution_count": null,
   "id": "0a8234b1",
   "metadata": {
    "id": "0a8234b1"
   },
   "outputs": [],
   "source": [
    "s1.union(s2)"
   ]
  },
  {
   "cell_type": "markdown",
   "id": "57b1d50c",
   "metadata": {
    "id": "57b1d50c"
   },
   "source": [
    "Some arithmetic operators work with sets.\n",
    "For example, the `-` operator performs set subtraction -- the result is a new set that contains all elements from the first set that are _not_ in the second set."
   ]
  },
  {
   "cell_type": "code",
   "execution_count": null,
   "id": "5b81bb56",
   "metadata": {
    "id": "5b81bb56"
   },
   "outputs": [],
   "source": [
    "s1 - s2"
   ]
  },
  {
   "cell_type": "markdown",
   "id": "5099226c",
   "metadata": {
    "id": "5099226c"
   },
   "source": [
    "In [Chapter 12](section_dictionary_subtraction) we used dictionaries to find the words that appear in a document but not in a word list.\n",
    "We used the following function, which takes two dictionaries and returns a new dictionary that contains only the keys from the first that don't appear in the second."
   ]
  },
  {
   "cell_type": "code",
   "execution_count": null,
   "id": "06a94266",
   "metadata": {
    "id": "06a94266"
   },
   "outputs": [],
   "source": [
    "def subtract(d1, d2):\n",
    "    res = {}\n",
    "    for key in d1:\n",
    "        if key not in d2:\n",
    "            res[key] = d1[key]\n",
    "    return res"
   ]
  },
  {
   "cell_type": "markdown",
   "id": "455c3e34",
   "metadata": {
    "id": "455c3e34"
   },
   "source": [
    "With sets, we don't have to write this function ourselves.\n",
    "If `word_counter` is a dictionary that contains the unique words in the document and `word_list` is a list of valid words, we can compute the set difference like this."
   ]
  },
  {
   "cell_type": "code",
   "execution_count": null,
   "id": "3f303544",
   "metadata": {
    "id": "3f303544",
    "tags": []
   },
   "outputs": [],
   "source": [
    "# this cell creates a small example so we can run the following\n",
    "# cell without loading the actual data\n",
    "\n",
    "word_counter = {'word': 1}\n",
    "word_list = ['word']"
   ]
  },
  {
   "cell_type": "code",
   "execution_count": null,
   "id": "b200cbc2",
   "metadata": {
    "id": "b200cbc2",
    "tags": []
   },
   "outputs": [],
   "source": [
    "set(word_counter) - set(word_list)"
   ]
  },
  {
   "cell_type": "markdown",
   "id": "91efe708",
   "metadata": {
    "id": "91efe708"
   },
   "source": [
    "The result is a set that contains the words in the document that don't appear in the word list.\n",
    "\n",
    "The relational operators work with sets.\n",
    "For example, `<=` checks whether one set is a subset of another, including the possibility that they are equal."
   ]
  },
  {
   "cell_type": "code",
   "execution_count": null,
   "id": "15919aca",
   "metadata": {
    "id": "15919aca"
   },
   "outputs": [],
   "source": [
    "set('ab') <= set('abc')"
   ]
  },
  {
   "cell_type": "markdown",
   "id": "74d4d824",
   "metadata": {
    "id": "74d4d824"
   },
   "source": [
    "With these operators, we can use sets to do some of the exercises in Chapter 7.\n",
    "For example, here's a version of `uses_only` that uses a loop."
   ]
  },
  {
   "cell_type": "code",
   "execution_count": null,
   "id": "21940f25",
   "metadata": {
    "id": "21940f25"
   },
   "outputs": [],
   "source": [
    "def uses_only(word, available):\n",
    "    for letter in word:\n",
    "        if letter not in available:\n",
    "            return False\n",
    "    return True"
   ]
  },
  {
   "cell_type": "markdown",
   "id": "58c1da26",
   "metadata": {
    "id": "58c1da26"
   },
   "source": [
    "`uses_only` checks whether all letters in `word` are in `available`.\n",
    "With sets, we can rewrite it like this."
   ]
  },
  {
   "cell_type": "code",
   "execution_count": null,
   "id": "5769968e",
   "metadata": {
    "id": "5769968e"
   },
   "outputs": [],
   "source": [
    "def uses_only(word, available):\n",
    "    return set(word) <= set(available)"
   ]
  },
  {
   "cell_type": "markdown",
   "id": "01ce8cff",
   "metadata": {
    "id": "01ce8cff"
   },
   "source": [
    "If the letters in `word` are a subset of the letters in `available`, that means that `word` uses only letters in `available`."
   ]
  }
 ],
 "metadata": {
  "celltoolbar": "Tags",
  "colab": {
   "provenance": [
    {
     "file_id": "https://github.com/AllenDowney/ThinkPython/blob/v3/chapters/chap18.ipynb",
     "timestamp": 1741092621475
    }
   ]
  },
  "kernelspec": {
   "display_name": "Python",
   "language": "python",
   "name": "python3"
  },
  "language_info": {
   "codemirror_mode": {
    "name": "ipython",
    "version": 3
   },
   "file_extension": ".py",
   "mimetype": "text/x-python",
   "name": "python",
   "nbconvert_exporter": "python",
   "pygments_lexer": "ipython3",
   "version": "3.8.10"
  }
 },
 "nbformat": 4,
 "nbformat_minor": 5
}
