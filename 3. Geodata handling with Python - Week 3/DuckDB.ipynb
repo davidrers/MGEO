{
 "cells": [
  {
   "cell_type": "markdown",
   "metadata": {
    "id": "Qm2AFF_85XUl"
   },
   "source": [
    "# Python & DuckDB\n",
    "\n",
    "DuckDB is an embedded, high-performance analytical database designed for fast, in-memory processing of large datasets. It's similar to SQLite, but optimized for analytical queries rather than transactional ones.\n",
    "Key Features of DuckDB in Python:\n",
    "\n",
    "-   Fast Query Execution: Optimized for OLAP (Online Analytical Processing) workloads.\n",
    "-    In-Memory Processing: Runs directly in memory, making it much faster than disk-based databases for analytics.\n",
    "-    Seamless Pandas Integration: Easily reads/writes Pandas DataFrames.\n",
    "-    SQL-Based Interface: You can use standard SQL queries in Python without setting up a database server.\n",
    "-    Lightweight & Serverless: Runs inside your Python script with no external dependencies.\n",
    "\n",
    "**Why Use DuckDB?**\n",
    "\n",
    "-    It's faster than Pandas for complex queries.\n",
    "-    Works well with large datasets without loading everything into memory.\n",
    "-    No database setup required—just install and run!\n",
    "\n",
    "We will demonstrate with the titanic example database.\n",
    "\n",
    "**The Titanic dataset**\n",
    "\n",
    "The Titanic Survival Dataset is one of the most famous datasets in data science and machine learning. It contains details about passengers aboard the RMS Titanic, which tragically sank on April 15, 1912, after hitting an iceberg. This dataset provides crucial insights into the survival patterns of passengers, helping analysts understand factors that influenced their chances of survival.\n",
    "\n",
    "The dataset consists of passenger records, each containing demographic and travel-related information. Key attributes are the passenger class  (1 = First, 2 = Second, 3 = Third), survival (0 = no, 1 = yes), gender (male, female), age in years, fare paid for the ticket, port of embarkation (C = Cherbourg, Q = Queenstown, S = Southampton), and more.\n",
    "\n",
    "Take a look at the example queries below. Study the SQL and the results. Later you will try to build the same functionality using pandas and matplotlib."
   ]
  },
  {
   "cell_type": "markdown",
   "metadata": {
    "id": "duoyyoFr8FXv"
   },
   "source": [
    "First, we will import duckdb, load the titanic dataset, count the records, and give an overview of the table."
   ]
  },
  {
   "cell_type": "code",
   "execution_count": 2,
   "metadata": {
    "colab": {
     "base_uri": "https://localhost:8080/",
     "height": 251
    },
    "executionInfo": {
     "elapsed": 299,
     "status": "error",
     "timestamp": 1741791263185,
     "user": {
      "displayName": "Wim H Bakker",
      "userId": "13780561155230702883"
     },
     "user_tz": -60
    },
    "id": "LQnv6Vgc1Z5Z",
    "outputId": "2923a84f-3056-4e5a-891a-07564b7c2c57"
   },
   "outputs": [
    {
     "name": "stdout",
     "output_type": "stream",
     "text": [
      "Load full titanic dataset into duckdb as the titanic table\n"
     ]
    },
    {
     "ename": "CatalogException",
     "evalue": "Catalog Error: Table with name \"titanic\" already exists!",
     "output_type": "error",
     "traceback": [
      "\u001b[0;31m---------------------------------------------------------------------------\u001b[0m",
      "\u001b[0;31mCatalogException\u001b[0m                          Traceback (most recent call last)",
      "\u001b[0;32m<ipython-input-2-fa09b479ed82>\u001b[0m in \u001b[0;36m<cell line: 0>\u001b[0;34m()\u001b[0m\n\u001b[1;32m      2\u001b[0m \u001b[0;34m\u001b[0m\u001b[0m\n\u001b[1;32m      3\u001b[0m \u001b[0mprint\u001b[0m\u001b[0;34m(\u001b[0m\u001b[0;34m\"Load full titanic dataset into duckdb as the titanic table\"\u001b[0m\u001b[0;34m)\u001b[0m\u001b[0;34m\u001b[0m\u001b[0;34m\u001b[0m\u001b[0m\n\u001b[0;32m----> 4\u001b[0;31m \u001b[0mduckdb\u001b[0m\u001b[0;34m.\u001b[0m\u001b[0msql\u001b[0m\u001b[0;34m(\u001b[0m\u001b[0;34m\"CREATE TABLE titanic AS FROM 'https://gist.githubusercontent.com/teamtom/1af7b484954b2d4b7e981ea3e7a27f24/raw/114fb69dce56b4462a9c3a417e7402330616ad4f/titanic_full.csv';\"\u001b[0m\u001b[0;34m)\u001b[0m\u001b[0;34m\u001b[0m\u001b[0;34m\u001b[0m\u001b[0m\n\u001b[0m\u001b[1;32m      5\u001b[0m \u001b[0;34m\u001b[0m\u001b[0m\n\u001b[1;32m      6\u001b[0m \u001b[0mprint\u001b[0m\u001b[0;34m(\u001b[0m\u001b[0;34m\"Count the number of records in the titanic table\"\u001b[0m\u001b[0;34m)\u001b[0m\u001b[0;34m\u001b[0m\u001b[0;34m\u001b[0m\u001b[0m\n",
      "\u001b[0;31mCatalogException\u001b[0m: Catalog Error: Table with name \"titanic\" already exists!"
     ]
    }
   ],
   "source": [
    "import duckdb\n",
    "\n",
    "print(\"Load full titanic dataset into duckdb as the titanic table\")\n",
    "duckdb.sql(\"CREATE TABLE titanic AS FROM 'https://gist.githubusercontent.com/teamtom/1af7b484954b2d4b7e981ea3e7a27f24/raw/114fb69dce56b4462a9c3a417e7402330616ad4f/titanic_full.csv';\")"
   ]
  },
  {
   "cell_type": "code",
   "execution_count": 10,
   "metadata": {
    "colab": {
     "base_uri": "https://localhost:8080/"
    },
    "executionInfo": {
     "elapsed": 40,
     "status": "ok",
     "timestamp": 1741792896668,
     "user": {
      "displayName": "Wim H Bakker",
      "userId": "13780561155230702883"
     },
     "user_tz": -60
    },
    "id": "C1V7ws1X8cZ0",
    "outputId": "0ae6f4f4-fe75-4a22-f156-44ffdb59cc6e"
   },
   "outputs": [
    {
     "name": "stdout",
     "output_type": "stream",
     "text": [
      "Count the number of records in the titanic table\n",
      "┌──────────────┐\n",
      "│ count_star() │\n",
      "│    int64     │\n",
      "├──────────────┤\n",
      "│         1309 │\n",
      "└──────────────┘\n",
      "\n",
      "Give an overview of the titanic table\n",
      "┌────────┬──────────┬──────────────────────────────────────────────────────────────┬─────────┬────────┬───────┬───────┬────────────┬──────────┬─────────────┬──────────┬─────────┬───────┬────────────────────────────┐\n",
      "│ pclass │ survived │                             name                             │   sex   │  age   │ sibsp │ parch │   ticket   │   fare   │    cabin    │ embarked │  boat   │ body  │         home.dest          │\n",
      "│ int64  │  int64   │                           varchar                            │ varchar │ double │ int64 │ int64 │  varchar   │  double  │   varchar   │ varchar  │ varchar │ int64 │          varchar           │\n",
      "├────────┼──────────┼──────────────────────────────────────────────────────────────┼─────────┼────────┼───────┼───────┼────────────┼──────────┼─────────────┼──────────┼─────────┼───────┼────────────────────────────┤\n",
      "│      3 │        0 │ Mahon Miss. Bridget Delia                                    │ female  │   NULL │     0 │     0 │ 330924     │   7.8792 │ NULL        │ Q        │ NULL    │  NULL │ NULL                       │\n",
      "│      1 │        0 │ Clifford Mr. George Quincy                                   │ male    │   NULL │     0 │     0 │ 110465     │     52.0 │ A14         │ S        │ NULL    │  NULL │ Stoughton MA               │\n",
      "│      3 │        0 │ Yasbeck Mr. Antoni                                           │ male    │   27.0 │     1 │     0 │ 2659       │  14.4542 │ NULL        │ C        │ C       │  NULL │ NULL                       │\n",
      "│      3 │        1 │ Tenglin Mr. Gunnar Isidor                                    │ male    │   25.0 │     0 │     0 │ 350033     │   7.7958 │ NULL        │ S        │ 13 15   │  NULL │ NULL                       │\n",
      "│      3 │        0 │ Kelly Mr. James                                              │ male    │   34.5 │     0 │     0 │ 330911     │   7.8292 │ NULL        │ Q        │ NULL    │    70 │ NULL                       │\n",
      "│      3 │        0 │ Bjorklund Mr. Ernst Herbert                                  │ male    │   18.0 │     0 │     0 │ 347090     │     7.75 │ NULL        │ S        │ NULL    │  NULL │ Stockholm Sweden New York  │\n",
      "│      3 │        0 │ Ware Mr. Frederick                                           │ male    │   NULL │     0 │     0 │ 359309     │     8.05 │ NULL        │ S        │ NULL    │  NULL │ NULL                       │\n",
      "│      1 │        1 │ Cardeza Mrs. James Warburton Martinez Charlotte Wardle Drake │ female  │   58.0 │     0 │     1 │ PC 17755   │ 512.3292 │ B51 B53 B55 │ C        │ 3       │  NULL │ Germantown Philadelphia PA │\n",
      "│      3 │        0 │ Doharr Mr. Tannous                                           │ male    │   NULL │     0 │     0 │ 2686       │   7.2292 │ NULL        │ C        │ NULL    │  NULL │ NULL                       │\n",
      "│      3 │        1 │ Murphy Miss. Margaret Jane                                   │ female  │   NULL │     1 │     0 │ 367230     │     15.5 │ NULL        │ Q        │ 16      │  NULL │ NULL                       │\n",
      "│      · │        · │            ·                                                 │  ·      │     ·  │     · │     · │   ·        │       ·  │ ·           │ ·        │ ·       │    ·  │  ·                         │\n",
      "│      · │        · │            ·                                                 │  ·      │     ·  │     · │     · │   ·        │       ·  │ ·           │ ·        │ ·       │    ·  │  ·                         │\n",
      "│      · │        · │            ·                                                 │  ·      │     ·  │     · │     · │   ·        │       ·  │ ·           │ ·        │ ·       │    ·  │  ·                         │\n",
      "│      1 │        1 │ Chevre Mr. Paul Romaine                                      │ male    │   45.0 │     0 │     0 │ PC 17594   │     29.7 │ A9          │ C        │ 7       │  NULL │ Paris France               │\n",
      "│      1 │        1 │ Endres Miss. Caroline Louise                                 │ female  │   38.0 │     0 │     0 │ PC 17757   │  227.525 │ C45         │ C        │ 4       │  NULL │ New York NY                │\n",
      "│      3 │        0 │ Attalah Miss. Malake                                         │ female  │   17.0 │     0 │     0 │ 2627       │  14.4583 │ NULL        │ C        │ NULL    │  NULL │ NULL                       │\n",
      "│      2 │        0 │ Leyson Mr. Robert William Norman                             │ male    │   24.0 │     0 │     0 │ C.A. 29566 │     10.5 │ NULL        │ S        │ NULL    │   108 │ NULL                       │\n",
      "│      3 │        0 │ Pettersson Miss. Ellen Natalia                               │ female  │   18.0 │     0 │     0 │ 347087     │    7.775 │ NULL        │ S        │ NULL    │  NULL │ NULL                       │\n",
      "│      3 │        0 │ Rice Master. Eugene                                          │ male    │    2.0 │     4 │     1 │ 382652     │   29.125 │ NULL        │ Q        │ NULL    │  NULL │ NULL                       │\n",
      "│      3 │        0 │ Dika Mr. Mirko                                               │ male    │   17.0 │     0 │     0 │ 349232     │   7.8958 │ NULL        │ S        │ NULL    │  NULL │ NULL                       │\n",
      "│      3 │        0 │ Palsson Miss. Torborg Danira                                 │ female  │    8.0 │     3 │     1 │ 349909     │   21.075 │ NULL        │ S        │ NULL    │  NULL │ NULL                       │\n",
      "│      1 │        0 │ Widener Mr. George Dunton                                    │ male    │   50.0 │     1 │     1 │ 113503     │    211.5 │ C80         │ C        │ NULL    │  NULL │ Elkins Park PA             │\n",
      "│      3 │        1 │ Riordan Miss. Johanna Hannah                                 │ female  │   NULL │     0 │     0 │ 334915     │   7.7208 │ NULL        │ Q        │ 13      │  NULL │                            │\n",
      "├────────┴──────────┴──────────────────────────────────────────────────────────────┴─────────┴────────┴───────┴───────┴────────────┴──────────┴─────────────┴──────────┴─────────┴───────┴────────────────────────────┤\n",
      "│ 1309 rows (20 shown)                                                                                                                                                                                     14 columns │\n",
      "└─────────────────────────────────────────────────────────────────────────────────────────────────────────────────────────────────────────────────────────────────────────────────────────────────────────────────────┘\n",
      "\n"
     ]
    }
   ],
   "source": [
    "print(\"Count the number of records in the titanic table\")\n",
    "duckdb.sql(\"SELECT count(*) FROM titanic\").show()\n",
    "\n",
    "print(\"Give an overview of the titanic table\")\n",
    "duckdb.sql(\"SELECT * FROM titanic\").show()"
   ]
  },
  {
   "cell_type": "markdown",
   "metadata": {
    "id": "pk8tLRUf5F5s"
   },
   "source": [
    "## Survival Rate by Sex\n",
    "\n",
    "Were male or femal passengers more likely to survive?"
   ]
  },
  {
   "cell_type": "code",
   "execution_count": 3,
   "metadata": {
    "colab": {
     "base_uri": "https://localhost:8080/"
    },
    "executionInfo": {
     "elapsed": 17,
     "status": "ok",
     "timestamp": 1741791273909,
     "user": {
      "displayName": "Wim H Bakker",
      "userId": "13780561155230702883"
     },
     "user_tz": -60
    },
    "id": "MZC4koFZ2Il9",
    "outputId": "a901881e-c7f6-402e-dce1-892c6406ac53"
   },
   "outputs": [
    {
     "name": "stdout",
     "output_type": "stream",
     "text": [
      "Calculate the survival rate per gender\n",
      "┌─────────┬─────────────────────┐\n",
      "│   sex   │    survival_rate    │\n",
      "│ varchar │       double        │\n",
      "├─────────┼─────────────────────┤\n",
      "│ female  │  0.7274678111587983 │\n",
      "│ male    │ 0.19098457888493475 │\n",
      "└─────────┴─────────────────────┘\n",
      "\n"
     ]
    }
   ],
   "source": [
    "print(\"Calculate the survival rate per gender\")\n",
    "duckdb.sql(\"\"\"SELECT\n",
    "    sex,\n",
    "    AVG(survived) AS survival_rate\n",
    "FROM\n",
    "    titanic\n",
    "GROUP BY\n",
    "    sex;\"\"\").show()"
   ]
  },
  {
   "cell_type": "markdown",
   "metadata": {
    "id": "TNa4T8nS24G9"
   },
   "source": [
    "## Survival per passnger class\n",
    "\n",
    "Were first-class passengers more likely to survive?"
   ]
  },
  {
   "cell_type": "code",
   "execution_count": 4,
   "metadata": {
    "colab": {
     "base_uri": "https://localhost:8080/"
    },
    "executionInfo": {
     "elapsed": 19,
     "status": "ok",
     "timestamp": 1741791376919,
     "user": {
      "displayName": "Wim H Bakker",
      "userId": "13780561155230702883"
     },
     "user_tz": -60
    },
    "id": "bkAcNAk42hX5",
    "outputId": "98b6d536-a477-4142-9650-7222bd4378d7"
   },
   "outputs": [
    {
     "name": "stdout",
     "output_type": "stream",
     "text": [
      "Survival Rate by Passenger Class\n",
      "┌────────┬────────────────────┐\n",
      "│ pclass │   survival_rate    │\n",
      "│ int64  │       double       │\n",
      "├────────┼────────────────────┤\n",
      "│      1 │ 0.6191950464396285 │\n",
      "│      2 │ 0.4296028880866426 │\n",
      "│      3 │ 0.2552891396332863 │\n",
      "└────────┴────────────────────┘\n",
      "\n"
     ]
    }
   ],
   "source": [
    "print(\"Survival Rate by Passenger Class\")\n",
    "duckdb.sql(\"\"\"\n",
    "   SELECT\n",
    "       pclass,\n",
    "       AVG(survived) AS survival_rate\n",
    "   FROM\n",
    "       titanic\n",
    "   GROUP BY\n",
    "       pclass\n",
    "   ORDER BY\n",
    "       pclass;\"\"\").show()"
   ]
  },
  {
   "cell_type": "markdown",
   "metadata": {
    "id": "xJsChzM63A0k"
   },
   "source": [
    "## Survival Rate by Age Group\n",
    "\n",
    "Did children have a higher survival rate than adults?"
   ]
  },
  {
   "cell_type": "code",
   "execution_count": 5,
   "metadata": {
    "colab": {
     "base_uri": "https://localhost:8080/"
    },
    "executionInfo": {
     "elapsed": 61,
     "status": "ok",
     "timestamp": 1741791505755,
     "user": {
      "displayName": "Wim H Bakker",
      "userId": "13780561155230702883"
     },
     "user_tz": -60
    },
    "id": "F9du8qen3IdS",
    "outputId": "19a0a50a-334f-4b54-8212-266fe6f51ce5"
   },
   "outputs": [
    {
     "name": "stdout",
     "output_type": "stream",
     "text": [
      "┌───────────┬─────────────────────┐\n",
      "│ age_group │    survival_rate    │\n",
      "│  varchar  │       double        │\n",
      "├───────────┼─────────────────────┤\n",
      "│ 0-9       │  0.6097560975609756 │\n",
      "│ 10-19     │  0.3916083916083916 │\n",
      "│ 20-29     │  0.3691860465116279 │\n",
      "│ 30-39     │  0.4224137931034483 │\n",
      "│ 40-49     │  0.3851851851851852 │\n",
      "│ 50-59     │ 0.45714285714285713 │\n",
      "│ 60+       │                 0.3 │\n",
      "│ Unknown   │ 0.27756653992395436 │\n",
      "└───────────┴─────────────────────┘\n",
      "\n"
     ]
    }
   ],
   "source": [
    "duckdb.sql(\"\"\"\n",
    "   SELECT\n",
    "       CASE\n",
    "           WHEN age < 10 THEN '0-9'\n",
    "           WHEN age BETWEEN 10 AND 19 THEN '10-19'\n",
    "           WHEN age BETWEEN 20 AND 29 THEN '20-29'\n",
    "           WHEN age BETWEEN 30 AND 39 THEN '30-39'\n",
    "           WHEN age BETWEEN 40 AND 49 THEN '40-49'\n",
    "           WHEN age BETWEEN 50 AND 59 THEN '50-59'\n",
    "           WHEN age >= 60 THEN '60+'\n",
    "           ELSE 'Unknown'\n",
    "       END AS age_group,\n",
    "       AVG(survived) AS survival_rate\n",
    "   FROM\n",
    "       titanic\n",
    "   GROUP BY\n",
    "       age_group\n",
    "   ORDER BY\n",
    "       age_group;\n",
    "\"\"\").show()"
   ]
  },
  {
   "cell_type": "markdown",
   "metadata": {
    "id": "wFS9pxUK3ZiG"
   },
   "source": [
    "## Survival Rate by Embarkation Port\n",
    "\n",
    "Did passengers from certain ports have a better chance of survival?"
   ]
  },
  {
   "cell_type": "code",
   "execution_count": 6,
   "metadata": {
    "colab": {
     "base_uri": "https://localhost:8080/"
    },
    "executionInfo": {
     "elapsed": 36,
     "status": "ok",
     "timestamp": 1741791603066,
     "user": {
      "displayName": "Wim H Bakker",
      "userId": "13780561155230702883"
     },
     "user_tz": -60
    },
    "id": "IRGNvfk13g9W",
    "outputId": "0616f74f-4b16-4a22-a73b-30a34ff68428"
   },
   "outputs": [
    {
     "name": "stdout",
     "output_type": "stream",
     "text": [
      "┌──────────┬─────────────────────┐\n",
      "│ embarked │    survival_rate    │\n",
      "│ varchar  │       double        │\n",
      "├──────────┼─────────────────────┤\n",
      "│ NULL     │                 1.0 │\n",
      "│ C        │  0.5555555555555556 │\n",
      "│ Q        │ 0.35772357723577236 │\n",
      "│ S        │ 0.33260393873085337 │\n",
      "└──────────┴─────────────────────┘\n",
      "\n"
     ]
    }
   ],
   "source": [
    "duckdb.sql(\"\"\"\n",
    "   SELECT\n",
    "       embarked,\n",
    "       AVG(survived) AS survival_rate\n",
    "   FROM\n",
    "       titanic\n",
    "   GROUP BY\n",
    "       embarked;\n",
    "\"\"\").show()"
   ]
  },
  {
   "cell_type": "markdown",
   "metadata": {
    "id": "Ezd1vAhp3yK7"
   },
   "source": [
    "### Survival Rate by Family Size\n",
    "\n",
    "Did traveling with family improve survival chances?"
   ]
  },
  {
   "cell_type": "code",
   "execution_count": 7,
   "metadata": {
    "colab": {
     "base_uri": "https://localhost:8080/"
    },
    "executionInfo": {
     "elapsed": 65,
     "status": "ok",
     "timestamp": 1741791684812,
     "user": {
      "displayName": "Wim H Bakker",
      "userId": "13780561155230702883"
     },
     "user_tz": -60
    },
    "id": "Wy5ugyr0348a",
    "outputId": "4ae07346-72f1-4e2d-d8a6-9cefa7cc0a86"
   },
   "outputs": [
    {
     "name": "stdout",
     "output_type": "stream",
     "text": [
      "┌─────────────┬─────────────────────┐\n",
      "│ family_size │    survival_rate    │\n",
      "│    int64    │       double        │\n",
      "├─────────────┼─────────────────────┤\n",
      "│           0 │ 0.30253164556962026 │\n",
      "│           1 │  0.5361702127659574 │\n",
      "│           2 │  0.5660377358490566 │\n",
      "│           3 │  0.6976744186046512 │\n",
      "│           4 │  0.2727272727272727 │\n",
      "│           5 │                 0.2 │\n",
      "│           6 │                0.25 │\n",
      "│           7 │                 0.0 │\n",
      "│          10 │                 0.0 │\n",
      "└─────────────┴─────────────────────┘\n",
      "\n"
     ]
    }
   ],
   "source": [
    "duckdb.sql(\"\"\"\n",
    "   SELECT\n",
    "       (sibsp + parch) AS family_size,\n",
    "       AVG(survived) AS survival_rate\n",
    "   FROM\n",
    "       titanic\n",
    "   GROUP BY\n",
    "       family_size\n",
    "   ORDER BY\n",
    "       family_size;\n",
    "\"\"\").show()"
   ]
  },
  {
   "cell_type": "markdown",
   "metadata": {
    "id": "i6rXNK3e4Fvj"
   },
   "source": [
    "## Wealth and Survival (Fare Analysis)\n",
    "\n",
    "Did passengers who paid more have a higher survival rate?"
   ]
  },
  {
   "cell_type": "code",
   "execution_count": 8,
   "metadata": {
    "colab": {
     "base_uri": "https://localhost:8080/"
    },
    "executionInfo": {
     "elapsed": 33,
     "status": "ok",
     "timestamp": 1741791793113,
     "user": {
      "displayName": "Wim H Bakker",
      "userId": "13780561155230702883"
     },
     "user_tz": -60
    },
    "id": "4yJu4oPi4KHN",
    "outputId": "5000ab92-ff6f-46aa-8a67-52266c01b0f4"
   },
   "outputs": [
    {
     "name": "stdout",
     "output_type": "stream",
     "text": [
      "┌───────────────┬────────────────────┐\n",
      "│ fare_category │   survival_rate    │\n",
      "│    varchar    │       double       │\n",
      "├───────────────┼────────────────────┤\n",
      "│ High Fare     │ 0.6583333333333333 │\n",
      "│ Low Fare      │ 0.2240325865580448 │\n",
      "│ Medium Fare   │ 0.4020797227036395 │\n",
      "│ Unknown       │                0.0 │\n",
      "└───────────────┴────────────────────┘\n",
      "\n"
     ]
    }
   ],
   "source": [
    "duckdb.sql(\"\"\"\n",
    "   SELECT\n",
    "       CASE\n",
    "           WHEN fare < 10 THEN 'Low Fare'\n",
    "           WHEN fare BETWEEN 10 AND 50 THEN 'Medium Fare'\n",
    "           WHEN fare > 50 THEN 'High Fare'\n",
    "           ELSE 'Unknown'\n",
    "       END AS fare_category,\n",
    "       AVG(survived) AS survival_rate\n",
    "   FROM\n",
    "       titanic\n",
    "   GROUP BY\n",
    "       fare_category\n",
    "   ORDER BY\n",
    "       fare_category;\n",
    "\"\"\").show()"
   ]
  },
  {
   "cell_type": "markdown",
   "metadata": {
    "id": "gqZ2P8e_4l-T"
   },
   "source": [
    "## Male vs. Female Survival Rate by Class\n",
    "\n",
    "Was the \"women and children first\" rule followed across all classes?"
   ]
  },
  {
   "cell_type": "code",
   "execution_count": 9,
   "metadata": {
    "colab": {
     "base_uri": "https://localhost:8080/"
    },
    "executionInfo": {
     "elapsed": 15,
     "status": "ok",
     "timestamp": 1741791906676,
     "user": {
      "displayName": "Wim H Bakker",
      "userId": "13780561155230702883"
     },
     "user_tz": -60
    },
    "id": "-bBNq5RW4taR",
    "outputId": "99841aa9-b198-4428-adf9-a817f7aa9ae1"
   },
   "outputs": [
    {
     "name": "stdout",
     "output_type": "stream",
     "text": [
      "┌────────┬─────────┬─────────────────────┐\n",
      "│ pclass │   sex   │    survival_rate    │\n",
      "│ int64  │ varchar │       double        │\n",
      "├────────┼─────────┼─────────────────────┤\n",
      "│      1 │ female  │  0.9652777777777778 │\n",
      "│      1 │ male    │  0.3407821229050279 │\n",
      "│      2 │ female  │  0.8867924528301887 │\n",
      "│      2 │ male    │ 0.14619883040935672 │\n",
      "│      3 │ female  │ 0.49074074074074076 │\n",
      "│      3 │ male    │ 0.15212981744421908 │\n",
      "└────────┴─────────┴─────────────────────┘\n",
      "\n"
     ]
    }
   ],
   "source": [
    "duckdb.sql(\"\"\"\n",
    "   SELECT\n",
    "       pclass,\n",
    "       sex,\n",
    "       AVG(survived) AS survival_rate\n",
    "   FROM\n",
    "       titanic\n",
    "   GROUP BY\n",
    "       pclass, sex\n",
    "   ORDER BY\n",
    "       pclass, sex;\n",
    "\"\"\").show()"
   ]
  }
 ],
 "metadata": {
  "colab": {
   "authorship_tag": "ABX9TyMif0BCf/EyOBdgQR++OddT",
   "provenance": []
  },
  "kernelspec": {
   "display_name": "Python",
   "language": "python",
   "name": "python3"
  },
  "language_info": {
   "codemirror_mode": {
    "name": "ipython",
    "version": 3
   },
   "file_extension": ".py",
   "mimetype": "text/x-python",
   "name": "python",
   "nbconvert_exporter": "python",
   "pygments_lexer": "ipython3",
   "version": "3.8.10"
  }
 },
 "nbformat": 4,
 "nbformat_minor": 4
}
