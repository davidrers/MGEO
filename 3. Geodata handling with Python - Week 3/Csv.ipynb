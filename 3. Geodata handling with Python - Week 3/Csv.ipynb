{
 "cells": [
  {
   "cell_type": "markdown",
   "metadata": {
    "id": "ZPPkdD14uPhe"
   },
   "source": [
    "# Using the Python module `csv` with an existing CSV dataset\n",
    "\n",
    "## Introduction to CSV in Python\n",
    "\n",
    "Introduction to the `csv` module in Python, see: [Python Docs](https://docs.python.org/3/library/csv.html#module-csv).\n",
    "\n",
    "This notebook will guide you through working with CSV files using the `csv.DictReader`.\n",
    "We will use a publicly available dataset: \"Global Temperature Data.\"\n",
    "\n",
    "We start with importing necessary libraries. We get the dataset from a URL, which is why we need a few more Python modules for loading the data set from the net.\n",
    "\n",
    "The required Python libraries are imported:\n",
    "- `csv`: Used to handle reading and writing CSV files.\n",
    "- `requests`: Used to fetch a CSV file from an external URL.\n",
    "- `StringIO`: Allows treating a string as a file-like object so it can be read as if it were a local file."
   ]
  },
  {
   "cell_type": "code",
   "execution_count": 1,
   "metadata": {
    "executionInfo": {
     "elapsed": 236,
     "status": "ok",
     "timestamp": 1741269493146,
     "user": {
      "displayName": "Wim H Bakker",
      "userId": "13780561155230702883"
     },
     "user_tz": -60
    },
    "id": "p4l_2D9HuqW3"
   },
   "outputs": [],
   "source": [
    "import csv\n",
    "import requests\n",
    "from io import StringIO"
   ]
  },
  {
   "cell_type": "markdown",
   "metadata": {
    "id": "m87J-XfWutSq"
   },
   "source": [
    "## Downloading a CSV File from a URL\n",
    "\n",
    "- A CSV dataset is downloaded from the internet using the requests library.\n",
    "- The `requests.get(url)` function fetches the file as raw text.\n",
    "- The first 500 characters of the CSV file are displayed to ensure the data was retrieved correctly."
   ]
  },
  {
   "cell_type": "code",
   "execution_count": 2,
   "metadata": {
    "colab": {
     "base_uri": "https://localhost:8080/",
     "height": 107
    },
    "executionInfo": {
     "elapsed": 225,
     "status": "ok",
     "timestamp": 1741269498149,
     "user": {
      "displayName": "Wim H Bakker",
      "userId": "13780561155230702883"
     },
     "user_tz": -60
    },
    "id": "euBDoa_nu0h-",
    "outputId": "1acebefd-7924-4461-a2d9-fe2f9dc2019f"
   },
   "outputs": [
    {
     "data": {
      "application/vnd.google.colaboratory.intrinsic+json": {
       "type": "string"
      },
      "text/plain": [
       "'Source,Year,Mean\\r\\ngcag,1850-01,-0.6746\\r\\ngcag,1850-02,-0.3334\\r\\ngcag,1850-03,-0.5913\\r\\ngcag,1850-04,-0.5887\\r\\ngcag,1850-05,-0.5088\\r\\ngcag,1850-06,-0.3442\\r\\ngcag,1850-07,-0.1598\\r\\ngcag,1850-08,-0.2077\\r\\ngcag,1850-09,-0.3847\\r\\ngcag,1850-10,-0.5331\\r\\ngcag,1850-11,-0.2825\\r\\ngcag,1850-12,-0.4037\\r\\ngcag,1851-01,-0.2007\\r\\ngcag,1851-02,-0.4693\\r\\ngcag,1851-03,-0.6461\\r\\ngcag,1851-04,-0.5421\\r\\ngcag,1851-05,-0.1976\\r\\ngcag,1851-06,-0.1367\\r\\ngcag,1851-07,-0.0968\\r\\ngcag,1851-08,-0.1018\\r\\ngcag,1851-09,-0.0912\\r\\ngcag,1851-10,-0.0084'"
      ]
     },
     "execution_count": 2,
     "metadata": {},
     "output_type": "execute_result"
    }
   ],
   "source": [
    "# Download a CSV file (Global Temperature Data) from an external URL\n",
    "url = 'https://raw.githubusercontent.com/datasets/global-temp/master/data/monthly.csv'\n",
    "\n",
    "# Send a GET request to fetch the raw CSV data\n",
    "response = requests.get(url)\n",
    "csv_data = response.text\n",
    "\n",
    "# Display the first 500 characters of the CSV data to ensure we fetched it\n",
    "csv_data[:500]"
   ]
  },
  {
   "cell_type": "markdown",
   "metadata": {
    "id": "n-fTj5keu3yv"
   },
   "source": [
    "## Using `csv.DictReader` to Read CSV Data\n",
    "\n",
    "- The downloaded text data is converted into a file-like object using StringIO so that Python can read it as a CSV file.\n",
    "- `csv.DictReader` is used to read the CSV file, treating each row as a dictionary where:\n",
    "  - The keys are column headers (e.g., \"Year\", \"Mean\"). Note that the Year field contains the year and the month!\n",
    "  - The values are the corresponding row values.\n",
    "\n",
    "- The first 5 rows of the dataset (as dictionaries) are displayed for verification."
   ]
  },
  {
   "cell_type": "code",
   "execution_count": 3,
   "metadata": {
    "colab": {
     "base_uri": "https://localhost:8080/"
    },
    "executionInfo": {
     "elapsed": 4,
     "status": "ok",
     "timestamp": 1741269506677,
     "user": {
      "displayName": "Wim H Bakker",
      "userId": "13780561155230702883"
     },
     "user_tz": -60
    },
    "id": "_-oGoLAXu60C",
    "outputId": "a4b3342a-41ae-4d07-a251-a8d2f332564c"
   },
   "outputs": [
    {
     "data": {
      "text/plain": [
       "[{'Source': 'gcag', 'Year': '1850-01', 'Mean': '-0.6746'},\n",
       " {'Source': 'gcag', 'Year': '1850-02', 'Mean': '-0.3334'},\n",
       " {'Source': 'gcag', 'Year': '1850-03', 'Mean': '-0.5913'},\n",
       " {'Source': 'gcag', 'Year': '1850-04', 'Mean': '-0.5887'},\n",
       " {'Source': 'gcag', 'Year': '1850-05', 'Mean': '-0.5088'}]"
      ]
     },
     "execution_count": 3,
     "metadata": {},
     "output_type": "execute_result"
    }
   ],
   "source": [
    "# Use `csv.DictReader` to read the CSV data directly from the text\n",
    "data = StringIO(csv_data)  # Convert the text data to a file-like object\n",
    "\n",
    "# Reading CSV data with DictReader (this reads the CSV as a dictionary where each row is a dictionary)\n",
    "reader = csv.DictReader(data)\n",
    "\n",
    "# Convert to a list of dictionaries (each dictionary represents a row)\n",
    "rows = list(reader)\n",
    "\n",
    "# Display the first 5 rows of the dataset\n",
    "rows[:5]"
   ]
  },
  {
   "cell_type": "markdown",
   "metadata": {
    "id": "zoAZAo2Pu-Zj"
   },
   "source": [
    "## Accessing Specific Data\n",
    "\n",
    "- This section extracts and stores a list of tuples, each containing:\n",
    "\n",
    "  -  A year (e.g., \"2000-01\").\n",
    "  -  The mean temperature recorded on that date.\n",
    "\n",
    "- The first 5 entries of the extracted data are displayed."
   ]
  },
  {
   "cell_type": "code",
   "execution_count": 5,
   "metadata": {
    "colab": {
     "base_uri": "https://localhost:8080/"
    },
    "executionInfo": {
     "elapsed": 4,
     "status": "ok",
     "timestamp": 1741269591730,
     "user": {
      "displayName": "Wim H Bakker",
      "userId": "13780561155230702883"
     },
     "user_tz": -60
    },
    "id": "UvjtVXsJvJs9",
    "outputId": "b4cebb73-7218-4cc8-edc7-29959bbe2ddd"
   },
   "outputs": [
    {
     "data": {
      "text/plain": [
       "[('1850-01', '-0.6746'),\n",
       " ('1850-02', '-0.3334'),\n",
       " ('1850-03', '-0.5913'),\n",
       " ('1850-04', '-0.5887'),\n",
       " ('1850-05', '-0.5088')]"
      ]
     },
     "execution_count": 5,
     "metadata": {},
     "output_type": "execute_result"
    }
   ],
   "source": [
    "# Let's access specific columns from the dataset, for example, 'Date' and 'MeanTemperature'\n",
    "dates_and_temperatures = [(row['Year'], row['Mean']) for row in rows]\n",
    "\n",
    "# Display the first 5 entries of the extracted data\n",
    "dates_and_temperatures[:5]"
   ]
  },
  {
   "cell_type": "markdown",
   "metadata": {
    "id": "Fqbohv-KvNXe"
   },
   "source": [
    "## Filtering Data\n",
    "\n",
    "In this example we will extracting data for a specific year.\n",
    "\n",
    "- The dataset is filtered to include only rows where the Year starts with \"2000\" (i.e., data from the year 2000).\n",
    "- This is done using list comprehension, checking if row['Year'].startswith('2000').\n",
    "- The first 5 rows from the filtered data are displayed."
   ]
  },
  {
   "cell_type": "code",
   "execution_count": 6,
   "metadata": {
    "colab": {
     "base_uri": "https://localhost:8080/"
    },
    "executionInfo": {
     "elapsed": 4,
     "status": "ok",
     "timestamp": 1741269610493,
     "user": {
      "displayName": "Wim H Bakker",
      "userId": "13780561155230702883"
     },
     "user_tz": -60
    },
    "id": "adiV9aIzvSyh",
    "outputId": "aac9c2c6-7ce4-4efe-aaed-4c61e69daa9a"
   },
   "outputs": [
    {
     "data": {
      "text/plain": [
       "[{'Source': 'GISTEMP', 'Year': '2000-01', 'Mean': '0.24'},\n",
       " {'Source': 'gcag', 'Year': '2000-01', 'Mean': '0.1813'},\n",
       " {'Source': 'GISTEMP', 'Year': '2000-02', 'Mean': '0.56'},\n",
       " {'Source': 'gcag', 'Year': '2000-02', 'Mean': '0.4992'},\n",
       " {'Source': 'GISTEMP', 'Year': '2000-03', 'Mean': '0.55'}]"
      ]
     },
     "execution_count": 6,
     "metadata": {},
     "output_type": "execute_result"
    }
   ],
   "source": [
    "# Filter the rows to get only data from the year 2000\n",
    "filtered_data_2000 = [row for row in rows if row['Year'].startswith('2000')]\n",
    "\n",
    "# Display the first 5 rows from 2000\n",
    "filtered_data_2000[:5]"
   ]
  },
  {
   "cell_type": "markdown",
   "metadata": {
    "id": "kE9lsdruvVzK"
   },
   "source": [
    "## Writing Dat\n",
    "\n",
    "We will write the data to a new CSV file using `csv.DictWriter`\n",
    "\n",
    "- The filtered data from the year 2000 is written to a new CSV file (filtered_2000_temperatures.csv).\n",
    "- `csv.DictWriter` is used to write the data:\n",
    "\n",
    "   - The column names ('Year' and 'Mean') are defined.\n",
    "   - The header row is written to the file.\n",
    "   - Each row from the filtered dataset is written to the file.\n",
    "\n",
    "- After writing, the file list in the directory is checked to verify that the new CSV file was successfully created."
   ]
  },
  {
   "cell_type": "code",
   "execution_count": 10,
   "metadata": {
    "colab": {
     "base_uri": "https://localhost:8080/"
    },
    "executionInfo": {
     "elapsed": 47,
     "status": "ok",
     "timestamp": 1741270310138,
     "user": {
      "displayName": "Wim H Bakker",
      "userId": "13780561155230702883"
     },
     "user_tz": -60
    },
    "id": "AEax-RT-vcdS",
    "outputId": "fa5bf5cb-8404-4d06-ef21-42b07e0f5097"
   },
   "outputs": [
    {
     "name": "stdout",
     "output_type": "stream",
     "text": [
      "['.config', 'filtered_2000_temperatures.csv', 'sample_data']\n"
     ]
    },
    {
     "data": {
      "text/plain": [
       "True"
      ]
     },
     "execution_count": 10,
     "metadata": {},
     "output_type": "execute_result"
    }
   ],
   "source": [
    "# Let's write the filtered data from 2000 to a new CSV file using `csv.DictWriter`\n",
    "outputfile = 'filtered_2000_temperatures.csv'\n",
    "\n",
    "# Write the filtered data to a new CSV file\n",
    "\n",
    "with open(outputfile, mode='w', newline='') as file:\n",
    "    fieldnames = ['Year', 'Mean']\n",
    "    writer = csv.DictWriter(file, fieldnames=fieldnames)\n",
    "\n",
    "    # Write the header (fieldnames)\n",
    "    writer.writeheader()\n",
    "\n",
    "    # Write the rows\n",
    "    for row in filtered_data_2000:\n",
    "        writer.writerow({'Year': row['Year'], 'Mean': row['Mean']})\n",
    "\n",
    "# Verify the new file was created\n",
    "import os\n",
    "print(os.listdir())\n",
    "\n",
    "# Or, using the os.path.exists() function\n",
    "os.path.exists(outputfile)"
   ]
  },
  {
   "cell_type": "markdown",
   "metadata": {
    "id": "O8z8PWPHvhHl"
   },
   "source": [
    "## Conclusion and Further Exploration\n",
    "\n",
    "In this notebook, we've learned how to:\n",
    "- Read a CSV file from a URL using `csv.DictReader` and convert it to a list of dictionaries.\n",
    "- Access and filter data based on specific conditions.\n",
    "- Write filtered data to a new CSV file using `csv.DictWriter`.\n",
    "\n",
    "You can further explore advanced CSV operations such as merging CSV files, data cleaning, and processing larger datasets.\n",
    "\n",
    "For simply reading and writing Excel files you may want to explore `openpyxl`, see [Openpyxl](https://pypi.org/project/openpyxl/).\n",
    "\n",
    "However, pandas can also read and write csv files and Excel spreadsheets. In the next section we will explore pandas."
   ]
  },
  {
   "cell_type": "markdown",
   "metadata": {
    "id": "k1ZGBTsQv4Ac"
   },
   "source": [
    "### Learning Goals:\n",
    "- **Using `csv.DictReader`**: Read CSV data as dictionaries, where each row is represented as a dictionary with column names as keys.\n",
    "- **Filtering Data**: Filter rows based on specific conditions (e.g., extracting data for the year 2000).\n",
    "- **Writing CSV Files**: Write the filtered data to a new CSV file using `csv.DictWriter`.\n",
    "\n",
    "### Estimated Time: 2 Hours Max\n",
    "\n",
    "- **1st Hour**: Understand the basics of `csv.DictReader`, and practice reading and filtering the data.\n",
    "- **2nd Hour**: Learn to manipulate and write data to a new CSV file.\n",
    "\n",
    "This notebook uses a real-world dataset and demonstrates practical use cases for working with CSV files using the **`csv`** module in Python."
   ]
  },
  {
   "cell_type": "code",
   "execution_count": null,
   "metadata": {
    "id": "kGUFxgFstuDv"
   },
   "outputs": [],
   "source": []
  }
 ],
 "metadata": {
  "colab": {
   "authorship_tag": "ABX9TyOyB8L+X8rhqjNLj2Iip3K6",
   "provenance": []
  },
  "kernelspec": {
   "display_name": "Python",
   "language": "python",
   "name": "python3"
  },
  "language_info": {
   "codemirror_mode": {
    "name": "ipython",
    "version": 3
   },
   "file_extension": ".py",
   "mimetype": "text/x-python",
   "name": "python",
   "nbconvert_exporter": "python",
   "pygments_lexer": "ipython3",
   "version": "3.8.10"
  }
 },
 "nbformat": 4,
 "nbformat_minor": 4
}
