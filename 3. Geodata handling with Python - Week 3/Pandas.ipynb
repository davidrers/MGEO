{
 "cells": [
  {
   "cell_type": "markdown",
   "metadata": {
    "id": "UbP0Wl2TC-rZ"
   },
   "source": [
    "# Introduction to Pandas\n",
    "\n",
    "Pandas is a powerful Python library designed for efficient data manipulation and analysis, built on top of NumPy. It provides two primary data structures: **Series**, a one-dimensional labeled array, and **DataFrame**, a two-dimensional table-like structure with labeled rows and columns. These structures allow users to easily import, clean, transform, and analyze structured data from various sources such as CSV, Excel, SQL databases, and JSON files. Pandas offers intuitive functions for **indexing, selecting, and filtering** data, making it easy to perform operations like slicing, conditional filtering, and aggregation.  \n",
    "\n",
    "Beyond basic data handling, Pandas excels at **data transformation** with functions for handling missing values, merging datasets, reshaping tables (pivoting and melting), and performing group-wise computations using `.groupby()`. It also supports **time-series analysis**, allowing users to work with date/time data efficiently. Additionally, Pandas integrates seamlessly with Matplotlib and Seaborn, enabling quick and effective **data visualization**. Its ability to handle large datasets, combined with vectorized operations, makes it a go-to tool for data analysis, machine learning preprocessing, and business intelligence applications.\n",
    "\n",
    "This Jupyter Notebook will guide you through the basics of Pandas, a powerful Python library for data manipulation and analysis.\n",
    "By the end of this notebook, you will be able to:\n",
    "\n",
    "- Create and manipulate Pandas Series and DataFrames\n",
    "- Load and inspect datasets\n",
    "- Perform data cleaning and transformation\n",
    "- Aggregate and group data\n",
    "- Merge and join datasets\n",
    "- Visualize data with Pandas\n",
    "\n",
    "Estimated study time: 4 hours"
   ]
  },
  {
   "cell_type": "code",
   "execution_count": 2,
   "metadata": {
    "colab": {
     "base_uri": "https://localhost:8080/"
    },
    "executionInfo": {
     "elapsed": 12827,
     "status": "ok",
     "timestamp": 1741261229084,
     "user": {
      "displayName": "Wim H Bakker",
      "userId": "13780561155230702883"
     },
     "user_tz": -60
    },
    "id": "JlLl9sbCDNr3",
    "outputId": "b60422e5-08c4-4af9-cd3a-35170c75b1e9"
   },
   "outputs": [
    {
     "name": "stdout",
     "output_type": "stream",
     "text": [
      "Requirement already satisfied: pandas in /usr/local/lib/python3.11/dist-packages (2.2.2)\n",
      "Requirement already satisfied: matplotlib in /usr/local/lib/python3.11/dist-packages (3.10.0)\n",
      "Requirement already satisfied: seaborn in /usr/local/lib/python3.11/dist-packages (0.13.2)\n",
      "Requirement already satisfied: numpy>=1.23.2 in /usr/local/lib/python3.11/dist-packages (from pandas) (1.26.4)\n",
      "Requirement already satisfied: python-dateutil>=2.8.2 in /usr/local/lib/python3.11/dist-packages (from pandas) (2.8.2)\n",
      "Requirement already satisfied: pytz>=2020.1 in /usr/local/lib/python3.11/dist-packages (from pandas) (2025.1)\n",
      "Requirement already satisfied: tzdata>=2022.7 in /usr/local/lib/python3.11/dist-packages (from pandas) (2025.1)\n",
      "Requirement already satisfied: contourpy>=1.0.1 in /usr/local/lib/python3.11/dist-packages (from matplotlib) (1.3.1)\n",
      "Requirement already satisfied: cycler>=0.10 in /usr/local/lib/python3.11/dist-packages (from matplotlib) (0.12.1)\n",
      "Requirement already satisfied: fonttools>=4.22.0 in /usr/local/lib/python3.11/dist-packages (from matplotlib) (4.56.0)\n",
      "Requirement already satisfied: kiwisolver>=1.3.1 in /usr/local/lib/python3.11/dist-packages (from matplotlib) (1.4.8)\n",
      "Requirement already satisfied: packaging>=20.0 in /usr/local/lib/python3.11/dist-packages (from matplotlib) (24.2)\n",
      "Requirement already satisfied: pillow>=8 in /usr/local/lib/python3.11/dist-packages (from matplotlib) (11.1.0)\n",
      "Requirement already satisfied: pyparsing>=2.3.1 in /usr/local/lib/python3.11/dist-packages (from matplotlib) (3.2.1)\n",
      "Requirement already satisfied: six>=1.5 in /usr/local/lib/python3.11/dist-packages (from python-dateutil>=2.8.2->pandas) (1.17.0)\n"
     ]
    }
   ],
   "source": [
    "# Install Pandas if not already installed\n",
    "!pip install pandas matplotlib seaborn\n",
    "\n",
    "# Import necessary libraries\n",
    "import pandas as pd\n",
    "import numpy as np\n",
    "import matplotlib.pyplot as plt\n",
    "import seaborn as sns"
   ]
  },
  {
   "cell_type": "markdown",
   "metadata": {
    "id": "7sEzNn7GDQ7G"
   },
   "source": [
    "## Pandas Series\n",
    "\n",
    "A Series in Pandas is a one-dimensional labeled array that can hold data of any type, such as integers, floats, strings, or Python objects. It is similar to a column in a spreadsheet or a dictionary where each value has an associated index. The index provides labels for data points, allowing for quick and efficient data retrieval.\n",
    "\n",
    "First, we'll create a Series."
   ]
  },
  {
   "cell_type": "code",
   "execution_count": 3,
   "metadata": {
    "colab": {
     "base_uri": "https://localhost:8080/"
    },
    "executionInfo": {
     "elapsed": 173,
     "status": "ok",
     "timestamp": 1741261229086,
     "user": {
      "displayName": "Wim H Bakker",
      "userId": "13780561155230702883"
     },
     "user_tz": -60
    },
    "id": "lhab5VWsDpvb",
    "outputId": "7594e517-7c42-4903-b2f2-9f95b441fc19"
   },
   "outputs": [
    {
     "name": "stdout",
     "output_type": "stream",
     "text": [
      "Series Example:\n",
      "A    10\n",
      "B    20\n",
      "C    30\n",
      "D    40\n",
      "E    50\n",
      "dtype: int64\n"
     ]
    }
   ],
   "source": [
    "# Creating a Series\n",
    "data = [10, 20, 30, 40, 50]\n",
    "series = pd.Series(data, index=['A', 'B', 'C', 'D', 'E'])\n",
    "print(\"Series Example:\")\n",
    "print(series)"
   ]
  },
  {
   "cell_type": "markdown",
   "metadata": {
    "id": "U1EkjA1SDtAR"
   },
   "source": [
    "## Pandas DataFrames\n",
    "\n",
    "A pandas DataFrame is basically a table, kind of like a spreadsheet or SQL table, but in Python. It holds data in rows and columns, where each column can be a different data type (numbers, strings, etc.). You can think of it as a collection of series (one-dimensional arrays) stacked together.\n",
    "\n",
    "Here are a few core concepts that make up a pandas DataFrame:\n",
    "\n",
    "1. **Rows and Columns**: DataFrames have both rows (like records) and columns (like features or attributes). Rows are indexed with numbers or custom labels, while columns usually have labels that you can name.\n",
    "\n",
    "2. **Index**: This is like the label for each row. By default, it’s just a range of numbers (0, 1, 2, etc.), but you can set it to anything that uniquely identifies each row.\n",
    "\n",
    "3. **Columns**: Each column in a DataFrame is a pandas Series. A Series is like a list, but with an index attached, making it easier to access or manipulate the data.\n",
    "\n",
    "4. **Data Types**: Each column can hold different types of data, like integers, floats, strings, or booleans. It’s flexible enough to handle multiple types in the same structure.\n",
    "\n",
    "5. **Operations**: You can perform various operations on DataFrames like filtering rows, selecting specific columns, applying functions, merging with other DataFrames, and much more. It’s like a toolbox for handling structured data.\n",
    "\n",
    "To sum it up, a pandas DataFrame is a powerful and flexible structure for working with tabular data in Python. You can manipulate it, clean it, and perform analysis with just a few lines of code.\n",
    "\n",
    "Next, we'll create a DataFrame."
   ]
  },
  {
   "cell_type": "code",
   "execution_count": 4,
   "metadata": {
    "colab": {
     "base_uri": "https://localhost:8080/"
    },
    "executionInfo": {
     "elapsed": 170,
     "status": "ok",
     "timestamp": 1741261229088,
     "user": {
      "displayName": "Wim H Bakker",
      "userId": "13780561155230702883"
     },
     "user_tz": -60
    },
    "id": "s7sDofPHD8E8",
    "outputId": "5c6bbc0d-9884-4e62-e466-f45e0fa81cb0"
   },
   "outputs": [
    {
     "name": "stdout",
     "output_type": "stream",
     "text": [
      "\n",
      "DataFrame Example:\n",
      "      Name  Age  Score\n",
      "0    Alice   25     85\n",
      "1      Bob   30     90\n",
      "2  Charlie   35     78\n",
      "3    David   40     92\n",
      "4      Eva   45     88\n"
     ]
    }
   ],
   "source": [
    "data = {\n",
    "    'Name': ['Alice', 'Bob', 'Charlie', 'David', 'Eva'],\n",
    "    'Age': [25, 30, 35, 40, 45],\n",
    "    'Score': [85, 90, 78, 92, 88]\n",
    "}\n",
    "df = pd.DataFrame(data)\n",
    "print(\"\\nDataFrame Example:\")\n",
    "print(df)"
   ]
  },
  {
   "cell_type": "markdown",
   "metadata": {
    "id": "PTZsB8Q3ENVy"
   },
   "source": [
    "## Loading and Inspecting Data\n",
    "\n",
    "In the next code we'll use an example data set from Seaborne. Seaborn is a Python data visualization library based on Matplotlib that provides a high-level interface for creating attractive and informative statistical graphics. Here, we will only use the example dataset from Seaborne."
   ]
  },
  {
   "cell_type": "code",
   "execution_count": 5,
   "metadata": {
    "colab": {
     "base_uri": "https://localhost:8080/"
    },
    "executionInfo": {
     "elapsed": 300,
     "status": "ok",
     "timestamp": 1741261229387,
     "user": {
      "displayName": "Wim H Bakker",
      "userId": "13780561155230702883"
     },
     "user_tz": -60
    },
    "id": "aWN7zBWfEzmu",
    "outputId": "4be7d35f-7a21-4fd1-c96a-98bdceae3b30"
   },
   "outputs": [
    {
     "name": "stdout",
     "output_type": "stream",
     "text": [
      "\n",
      "First 5 Rows:\n",
      "   sepal_length  sepal_width  petal_length  petal_width species\n",
      "0           5.1          3.5           1.4          0.2  setosa\n",
      "1           4.9          3.0           1.4          0.2  setosa\n",
      "2           4.7          3.2           1.3          0.2  setosa\n",
      "3           4.6          3.1           1.5          0.2  setosa\n",
      "4           5.0          3.6           1.4          0.2  setosa\n",
      "\n",
      "Summary Statistics:\n",
      "       sepal_length  sepal_width  petal_length  petal_width\n",
      "count    150.000000   150.000000    150.000000   150.000000\n",
      "mean       5.843333     3.057333      3.758000     1.199333\n",
      "std        0.828066     0.435866      1.765298     0.762238\n",
      "min        4.300000     2.000000      1.000000     0.100000\n",
      "25%        5.100000     2.800000      1.600000     0.300000\n",
      "50%        5.800000     3.000000      4.350000     1.300000\n",
      "75%        6.400000     3.300000      5.100000     1.800000\n",
      "max        7.900000     4.400000      6.900000     2.500000\n",
      "\n",
      "Data Types:\n",
      "sepal_length    float64\n",
      "sepal_width     float64\n",
      "petal_length    float64\n",
      "petal_width     float64\n",
      "species          object\n",
      "dtype: object\n"
     ]
    }
   ],
   "source": [
    "# Load a sample dataset from seaborn\n",
    "iris = sns.load_dataset('iris')\n",
    "print(\"\\nFirst 5 Rows:\")\n",
    "print(iris.head())\n",
    "print(\"\\nSummary Statistics:\")\n",
    "print(iris.describe())\n",
    "print(\"\\nData Types:\")\n",
    "print(iris.dtypes)"
   ]
  },
  {
   "cell_type": "markdown",
   "metadata": {
    "id": "I1AwzG7_E3JF"
   },
   "source": [
    "## Data Cleaning and Transformation\n",
    "\n",
    "In pandas, data cleaning and transformations are essential steps for preparing raw data for analysis. Data cleaning involves identifying and correcting errors, inconsistencies, or missing values in the dataset. This may include tasks like filling in or dropping missing values, correcting data types, removing duplicates, or dealing with outliers. Cleaning ensures the data is accurate, complete, and in a usable format for analysis.\n",
    "\n",
    "Data transformations, on the other hand, focus on modifying the data to better suit the needs of the analysis. This could include tasks like normalizing or scaling numerical values, encoding categorical variables, aggregating data, or creating new derived columns. Transformations allow analysts to manipulate the data so it aligns with the goals of the analysis, ensuring it is in the right structure and format for modeling, visualization, or reporting. Together, data cleaning and transformations are crucial for turning raw, messy data into meaningful insights.\n",
    "\n",
    "Pandas has powerful tools for data cleaning and transformation.\n",
    "\n",
    "First, check if there are any missing values."
   ]
  },
  {
   "cell_type": "code",
   "execution_count": 6,
   "metadata": {
    "colab": {
     "base_uri": "https://localhost:8080/"
    },
    "executionInfo": {
     "elapsed": 11,
     "status": "ok",
     "timestamp": 1741261229399,
     "user": {
      "displayName": "Wim H Bakker",
      "userId": "13780561155230702883"
     },
     "user_tz": -60
    },
    "id": "Dxh5WW4HLXwZ",
    "outputId": "b1ffe961-a371-4f9e-9582-048668413e47"
   },
   "outputs": [
    {
     "name": "stdout",
     "output_type": "stream",
     "text": [
      "sepal_length    0\n",
      "sepal_width     0\n",
      "petal_length    0\n",
      "petal_width     0\n",
      "species         0\n",
      "dtype: int64\n"
     ]
    }
   ],
   "source": [
    "# Check for missing values\n",
    "print(iris.isna().sum())"
   ]
  },
  {
   "cell_type": "markdown",
   "metadata": {
    "id": "CTWW831eLoWu"
   },
   "source": [
    "There are no missing data in the iris set. In this case, the `dropna()` will have no effect."
   ]
  },
  {
   "cell_type": "code",
   "execution_count": 7,
   "metadata": {
    "colab": {
     "base_uri": "https://localhost:8080/"
    },
    "executionInfo": {
     "elapsed": 163,
     "status": "ok",
     "timestamp": 1741261229564,
     "user": {
      "displayName": "Wim H Bakker",
      "userId": "13780561155230702883"
     },
     "user_tz": -60
    },
    "id": "i6AA-sYiFEau",
    "outputId": "61bd776d-668b-4bf2-efc4-563e92f7985f"
   },
   "outputs": [
    {
     "name": "stdout",
     "output_type": "stream",
     "text": [
      "\n",
      "Filtered Data:\n",
      "   SepalLength  SepalWidth  petal_length  petal_width species\n",
      "0          5.1         3.5           1.4          0.2  setosa\n",
      "1          4.9         3.0           1.4          0.2  setosa\n",
      "2          4.7         3.2           1.3          0.2  setosa\n",
      "3          4.6         3.1           1.5          0.2  setosa\n",
      "4          5.0         3.6           1.4          0.2  setosa\n"
     ]
    }
   ],
   "source": [
    "# Handling Missing Values\n",
    "iris.dropna(inplace=True)  # Drop missing values\n",
    "#iris.fillna(iris.mean(), inplace=True)  # Alternatively, fill missing values with column mean\n",
    "\n",
    "# Renaming Columns\n",
    "iris.rename(columns={'sepal_length': 'SepalLength', 'sepal_width': 'SepalWidth'}, inplace=True)\n",
    "\n",
    "# Filtering Data\n",
    "filtered_df = iris[iris['species'] == 'setosa']\n",
    "print(\"\\nFiltered Data:\")\n",
    "print(filtered_df.head())"
   ]
  },
  {
   "cell_type": "markdown",
   "metadata": {
    "id": "ftHFctjCFSyk"
   },
   "source": [
    "## Aggregation and Grouping\n",
    "\n",
    "In pandas, aggregation and grouping are powerful techniques used to summarize and analyze data. **Grouping** involves splitting the data into subsets based on certain criteria (e.g., a column value) and then performing operations on each subset. Once the data is grouped, **aggregation** functions like `sum()`, `mean()`, `count()`, or `min()` can be applied to summarize or extract insights from each group. This process allows for efficient analysis of large datasets by organizing them into meaningful groups and applying operations to understand patterns or trends.\n",
    "\n",
    "These operations are similar to those used in relational databases, where you can use `GROUP BY` to divide data into groups based on a column and then apply aggregation functions like `SUM()`, `AVG()`, or `COUNT()`. In both pandas and databases, grouping and aggregation help to reduce complexity by transforming raw data into concise summaries. The key difference is that pandas operates entirely in memory and provides more flexibility for complex data manipulation, while databases are optimized for handling large datasets stored on disk and managing large-scale queries."
   ]
  },
  {
   "cell_type": "code",
   "execution_count": 8,
   "metadata": {
    "colab": {
     "base_uri": "https://localhost:8080/"
    },
    "executionInfo": {
     "elapsed": 9,
     "status": "ok",
     "timestamp": 1741261229574,
     "user": {
      "displayName": "Wim H Bakker",
      "userId": "13780561155230702883"
     },
     "user_tz": -60
    },
    "id": "869LgLJgFQX8",
    "outputId": "41a1fbef-0788-4e3b-f92e-8c4aa5e87e26"
   },
   "outputs": [
    {
     "name": "stdout",
     "output_type": "stream",
     "text": [
      "\n",
      "Grouped Mean Values:\n",
      "            SepalLength  SepalWidth  petal_length  petal_width\n",
      "species                                                       \n",
      "setosa            5.006       3.428         1.462        0.246\n",
      "versicolor        5.936       2.770         4.260        1.326\n",
      "virginica         6.588       2.974         5.552        2.026\n"
     ]
    }
   ],
   "source": [
    "# Grouping Data by Species\n",
    "grouped = iris.groupby('species').mean()\n",
    "print(\"\\nGrouped Mean Values:\")\n",
    "print(grouped)"
   ]
  },
  {
   "cell_type": "markdown",
   "metadata": {
    "id": "HwLPpHF5FZ3n"
   },
   "source": [
    "## Merging and Joining DataFrames\n",
    "\n",
    "In pandas, **merging** and **joining** are techniques used to combine multiple DataFrames based on common columns or indices. **Merging** involves combining two DataFrames using a specific column or index as a key, much like performing a SQL `JOIN` operation. You can control the type of merge (e.g., inner, outer, left, right) to define how rows from the two DataFrames are aligned and combined. **Joining** is a similar operation, but it is typically done using the index of one DataFrame and the index or a column in the other. Both methods are helpful for integrating related data from different sources or tables into a unified dataset for analysis.\n",
    "\n",
    "These operations are conceptually similar to **JOIN** operations in relational databases. In databases, you can join tables on common keys (such as primary and foreign keys) to combine related data. Like SQL joins, pandas merges and joins allow you to combine data from different sources based on matching values, providing flexibility in how data is aligned and combined. However, pandas operates entirely in memory, which can make it faster for smaller datasets, while databases are optimized for handling large datasets stored on disk with sophisticated indexing and query optimization.\n",
    "\n",
    "For demonstrating a join, we will first create a second table containing the flower count for the separate species."
   ]
  },
  {
   "cell_type": "code",
   "execution_count": 9,
   "metadata": {
    "executionInfo": {
     "elapsed": 1,
     "status": "ok",
     "timestamp": 1741261229578,
     "user": {
      "displayName": "Wim H Bakker",
      "userId": "13780561155230702883"
     },
     "user_tz": -60
    },
    "id": "f6v4NCaoMOJy"
   },
   "outputs": [],
   "source": [
    "# Creating another dataset\n",
    "data2 = {\n",
    "    'species': ['setosa', 'versicolor', 'virginica'],\n",
    "    'flower_count': [50, 60, 70]\n",
    "}\n",
    "df2 = pd.DataFrame(data2)"
   ]
  },
  {
   "cell_type": "markdown",
   "metadata": {
    "id": "3sbKQYWrMge5"
   },
   "source": [
    "The way to join these two tables / dataframes is to use a join. In pandas this is called `merge()`. Check the pandas manual for what kind of join is used in this case. From databases you may remember there are 4 types of attribute joins:\n",
    "\n",
    "In a database management system (DBMS), there are several types of joins used to combine rows from two or more tables based on a related column. Here are the main types of joins:\n",
    "\n",
    "    Inner Join:\n",
    "        Explanation: An inner join returns only the rows where there is a match in both tables. If a row in one table does not have a corresponding match in the other table, it is excluded from the result.\n",
    "        Use Case: When you want to retrieve only the records that have matching values in both tables.\n",
    "\n",
    "    Left Join:\n",
    "        Explanation: A left join returns all rows from the left table (the table specified first), and the matched rows from the right table. If there is no match, the result will contain NULL values for the columns from the right table.\n",
    "        Use Case: When you want to retain all records from the left table, even if there's no corresponding match in the right table.\n",
    "\n",
    "    Right Join:\n",
    "        Explanation: A right join is similar to a left join but returns all rows from the right table (the second table), along with the matched rows from the left table. If there is no match, the result will contain NULL values for the left table's columns.\n",
    "        Use Case: When you want to retain all records from the right table, even if there's no corresponding match in the left table.\n",
    "\n",
    "    Outer Join (Full Join):\n",
    "        Explanation: A full join returns all rows when there is a match in either the left or right table. If a row has no match in one table, NULL values are returned for the columns of the table without a match.\n",
    "        Use Case: When you want to include all records from both tables, even if there are no matches between them.\n",
    "\n",
    "In addition to these joins, a Cartesian product of two tables is sometimes refered to as a cross join:\n",
    "\n",
    "    Cross Join:\n",
    "        Explanation: A cross join returns the Cartesian product of two tables, meaning it will return every combination of rows from the left table with every row from the right table. This can result in a very large number of rows, especially with large tables.\n",
    "        Use Case: When you need every possible combination of rows from both tables, such as when generating all possible pairings or combinations.\n",
    "\n",
    "Which join is used below and why?"
   ]
  },
  {
   "cell_type": "code",
   "execution_count": 10,
   "metadata": {
    "colab": {
     "base_uri": "https://localhost:8080/"
    },
    "executionInfo": {
     "elapsed": 164,
     "status": "ok",
     "timestamp": 1741261229744,
     "user": {
      "displayName": "Wim H Bakker",
      "userId": "13780561155230702883"
     },
     "user_tz": -60
    },
    "id": "xkKEJ85dFiJo",
    "outputId": "11a30fcc-f21c-4b43-d658-c6712df9b625"
   },
   "outputs": [
    {
     "name": "stdout",
     "output_type": "stream",
     "text": [
      "\n",
      "Merged DataFrame:\n",
      "   SepalLength  SepalWidth  petal_length  petal_width species  flower_count\n",
      "0          5.1         3.5           1.4          0.2  setosa            50\n",
      "1          4.9         3.0           1.4          0.2  setosa            50\n",
      "2          4.7         3.2           1.3          0.2  setosa            50\n",
      "3          4.6         3.1           1.5          0.2  setosa            50\n",
      "4          5.0         3.6           1.4          0.2  setosa            50\n"
     ]
    }
   ],
   "source": [
    "# Merging DataFrames\n",
    "merged_df = pd.merge(iris, df2, on='species', how='left')\n",
    "print(\"\\nMerged DataFrame:\")\n",
    "print(merged_df.head())"
   ]
  },
  {
   "cell_type": "markdown",
   "metadata": {
    "id": "N4bu1q_EFkyI"
   },
   "source": [
    "## Data Visualization\n",
    "\n",
    "In pandas, **data visualization** is used to create visual representations of data to help identify patterns, trends, and outliers, and to communicate findings in a more intuitive and accessible way. By integrating with libraries like **Matplotlib**, **Seaborn**, and **Plotly**, pandas allows users to generate a wide variety of charts and graphs, such as line plots, bar charts, histograms, scatter plots, and heatmaps. Visualizing data makes it easier to understand complex relationships and distributions, and it aids in drawing conclusions from the data that might not be immediately obvious through raw numbers alone.\n",
    "\n",
    "Data visualization in pandas is particularly useful during exploratory data analysis (EDA) to uncover insights before diving into more advanced analysis or modeling. It helps to summarize large datasets, compare different variables, and detect anomalies. Just like in traditional business intelligence tools or databases, visualizing data is an essential part of making data-driven decisions and presenting results to others in a clear, impactful way."
   ]
  },
  {
   "cell_type": "code",
   "execution_count": 11,
   "metadata": {
    "colab": {
     "base_uri": "https://localhost:8080/",
     "height": 803
    },
    "executionInfo": {
     "elapsed": 1024,
     "status": "ok",
     "timestamp": 1741261230769,
     "user": {
      "displayName": "Wim H Bakker",
      "userId": "13780561155230702883"
     },
     "user_tz": -60
    },
    "id": "HI58_EiAFrzz",
    "outputId": "01b74ef2-82c6-488d-bbbf-6a6059209e74"
   },
   "outputs": [
    {
     "data": {
      "image/png": "[encoded data removed]",
      "text/plain": [
       "<Figure size 600x400 with 1 Axes>"
      ]
     },
     "metadata": {},
     "output_type": "display_data"
    },
    {
     "data": {
      "image/png": "[encoded data removed]",
      "text/plain": [
       "<Figure size 600x400 with 1 Axes>"
      ]
     },
     "metadata": {},
     "output_type": "display_data"
    }
   ],
   "source": [
    "# Histogram of Sepal Length\n",
    "plt.figure(figsize=(6,4))\n",
    "iris['SepalLength'].hist(bins=20, color='skyblue', edgecolor='black')\n",
    "plt.title(\"Distribution of Sepal Length\")\n",
    "plt.xlabel(\"Sepal Length\")\n",
    "plt.ylabel(\"Frequency\")\n",
    "plt.show()\n",
    "\n",
    "# Boxplot\n",
    "plt.figure(figsize=(6,4))\n",
    "sns.boxplot(x='species', y='SepalLength', data=iris)\n",
    "plt.title(\"Sepal Length by Species\")\n",
    "plt.show()"
   ]
  },
  {
   "cell_type": "markdown",
   "metadata": {
    "id": "nSchFd_6F0JN"
   },
   "source": [
    "## Exercises\n",
    "\n",
    "Try the following exercises to reinforce your learning:\n",
    "\n",
    "1. Load a CSV file into a Pandas DataFrame (e.g., a dataset from Kaggle or a public repository).\n",
    "2. Check for missing values and handle them appropriately.\n",
    "3. Add a new calculated column to a DataFrame.\n",
    "4. Group data by a categorical column and calculate aggregated statistics.\n",
    "5. Merge two datasets with common columns.\n",
    "6. Create a visualization using Pandas or Seaborn."
   ]
  }
 ],
 "metadata": {
  "colab": {
   "authorship_tag": "ABX9TyMsBUMB0dcU8JNXwsj8VLLG",
   "provenance": []
  },
  "kernelspec": {
   "display_name": "Python 3",
   "name": "python3"
  },
  "language_info": {
   "name": "python"
  }
 },
 "nbformat": 4,
 "nbformat_minor": 0
}
