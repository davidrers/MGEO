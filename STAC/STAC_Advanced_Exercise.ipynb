{
 "cells": [
  {
   "cell_type": "markdown",
   "id": "a39a8f95",
   "metadata": {},
   "source": [
    "# Advanced STAC Exercise\n",
    "\n",
    "Welcome to the advanced STAC exercise!\n",
    "\n",
    "## Learning Objectives\n",
    "\n",
    "By the end of this exercise, you will be able to:\n",
    "\n",
    "1. Understand how STAC items provide direct access to individual satellite bands\n",
    "2. Use rasterio to read data directly from remote URLs without downloading\n",
    "3. Assess the performance benefits of Cloud Optimized GeoTIFFs\n",
    "4. Build efficient workflows for satellite data analysis\n",
    "5. Compare different approaches to accessing and processing satellite data\n",
    "\n",
    "**Let's get started!**"
   ]
  },
  {
   "cell_type": "markdown",
   "id": "176ea199",
   "metadata": {},
   "source": [
    "## 1. Install Required Libraries\n",
    "\n",
    "For this advanced exercise, we'll need additional libraries for raster data processing. Run the cell below to install all required packages."
   ]
  },
  {
   "cell_type": "code",
   "execution_count": null,
   "id": "90acd009",
   "metadata": {},
   "outputs": [],
   "source": [
    "# Install required libraries\n",
    "!pip install pystac-client rasterio matplotlib numpy"
   ]
  },
  {
   "cell_type": "markdown",
   "id": "dc16f929",
   "metadata": {},
   "source": [
    "## 2. Understanding Direct Band Access in STAC\n",
    "\n",
    "Unlike basic STAC workflows where we just discover metadata, advanced STAC usage involves:\n",
    "\n",
    "### Direct URL Access\n",
    "- Each STAC item contains URLs to individual bands\n",
    "- These URLs point directly to the raster data (usually GeoTIFF files)\n",
    "- No need to download entire datasets locally\n",
    "\n",
    "### Cloud Optimized GeoTIFFs (COGs)\n",
    "- Internal structure optimized for remote access\n",
    "- Support for partial reads (only read what you need)\n",
    "- Multiple resolution levels (overviews) for fast preview\n",
    "\n",
    "### Performance Benefits\n",
    "- Read only the spatial/spectral subset you need\n",
    "- Reduced data transfer and processing time\n",
    "- Scalable analysis without local storage constraints\n",
    "\n",
    "Let's see this in action!"
   ]
  },
  {
   "cell_type": "markdown",
   "id": "74ca33df",
   "metadata": {},
   "source": [
    "## 3. Connect to STAC Catalog and Find Data\n",
    "\n",
    "First, let's connect to the EarthSearch STAC catalog and find some Sentinel-2 data over Amsterdam."
   ]
  },
  {
   "cell_type": "code",
   "execution_count": null,
   "id": "1b36a037-b6d0-447e-90bb-efc5385422ae",
   "metadata": {},
   "outputs": [],
   "source": [
    "# Import STAC Python Client library\n",
    "import ____"
   ]
  },
  {
   "cell_type": "code",
   "execution_count": null,
   "id": "de516218",
   "metadata": {},
   "outputs": [],
   "source": [
    "# Connect to EarthSearch STAC catalog\n",
    "catalog = ____.Client.open(\"____\")  # EarthSearch STAC API URL\n",
    "\n",
    "# Define area of interest as Amsterdam, Netherlands\n",
    "amsterdam_bbox = [____, ____, ____, ____]  # [west, south, east, north]\n",
    "\n",
    "# Search for Sentinel-2 data\n",
    "search = catalog.search(\n",
    "    collections=[\"____\"],             # Sentinel-2 L2A collection ID\n",
    "    bbox=____,                            # Amsterdam, Netherlands\n",
    "    datetime=\"2023-07-01/2023-07-31\",     # July 2024\n",
    "    max_items=____,                   # Limit to 5 items\n",
    "    query={\"eo:cloud_cover\": {\"lt\": 20}}  # Less than 20% cloud cover\n",
    ")\n",
    "\n",
    "items = list(____.items())\n",
    "print(f\"Found {len(items)} items.\")\n",
    "\n",
    "# Select the first item for analysis\n",
    "item = items[____]\n",
    "print(f\"Selected item: {item.id}\")\n",
    "print(f\"Date: {item.____}\")\n",
    "print(f\"Cloud cover: {item.____.get('____', 'N/A')}%\")"
   ]
  },
  {
   "cell_type": "markdown",
   "id": "d471d68b",
   "metadata": {},
   "source": [
    "## 4. Explore Available Assets\n",
    "\n",
    "Let's examine what bands/assets are available in our STAC item and their direct access URLs."
   ]
  },
  {
   "cell_type": "code",
   "execution_count": null,
   "id": "0762098e",
   "metadata": {},
   "outputs": [],
   "source": [
    "# Explore available assets in the STAC item\n",
    "print(\"Available assets:\")\n",
    "\n",
    "for asset_key, asset in item.____.items():\n",
    "    print(f\"{asset_key}: {asset.title}\")\n",
    "    print(f\"  Media type: {asset.____}\")\n",
    "    print(f\"  URL: {asset.____}\")\n",
    "\n",
    "# Let's focus on some key bands for our analysis\n",
    "bands_of_interest = [\"____\", \"____\", \"____\", \"____\"]  # Red, NIR, Green, Blue\n",
    "\n",
    "print(f\"We will work with these bands: {bands_of_interest}\")\n",
    "for band in bands_of_interest:\n",
    "    if band in item.assets:\n",
    "        url = item.assets[band].____\n",
    "        print(f\"  {band}: {url}\")"
   ]
  },
  {
   "cell_type": "markdown",
   "id": "3a0431d9",
   "metadata": {},
   "source": [
    "## 5. Direct Band Access with Rasterio\n",
    "\n",
    "We can use Rasterio library to open and read specific bands directly from their URLs. It also enables us to access remote data efficiently without downloading entire files, leveraging the power of COGs."
   ]
  },
  {
   "cell_type": "code",
   "execution_count": null,
   "id": "b09b6267-4558-4951-ba0b-42cedf3282be",
   "metadata": {},
   "outputs": [],
   "source": [
    "# Import libraries\n",
    "import ____  # For reading raster data\n",
    "from rasterio.windows import Window"
   ]
  },
  {
   "cell_type": "code",
   "execution_count": null,
   "id": "030b124e",
   "metadata": {},
   "outputs": [],
   "source": [
    "# Get URLs for Red and NIR bands\n",
    "red_url = item.assets[\"____\"].href  # Red band\n",
    "nir_url = item.assets[\"____\"].href  # NIR band\n",
    "\n",
    "print(f\"Red band URL: {red_url}\")\n",
    "print(f\"NIR band URL: {nir_url}\")\n",
    "\n",
    "# Open the bands with rasterio (without downloading)\n",
    "with rasterio.open(red_url) as red_src:\n",
    "    print(f\"Red band info:\")\n",
    "    print(f\"  Shape: {red_src.____}\")\n",
    "    print(f\"  CRS: {red_src.____}\")\n",
    "    print(f\"  Data type: {red_src.____}\")\n",
    "    \n",
    "    # Read a small subset (first 100x100 pixels)\n",
    "    window = Window(0, 0, ____, ____)  # Window size 100x100\n",
    "    red_subset = red_src.read(1, ____=window)\n",
    "\n",
    "with rasterio.open(nir_url) as nir_src:\n",
    "    print(f\"NIR band info:\")\n",
    "    print(f\"  Shape: {nir_src.____}\")\n",
    "    print(f\"  CRS: {nir_src.____}\")\n",
    "    print(f\"  Data type: {nir_src.____}\")\n",
    "    \n",
    "    # Read the same subset\n",
    "    nir_subset = nir_src.read(1, ____=window)\n",
    "\n",
    "print(f\"Successfully read {window} subset from both bands.\")\n",
    "print(f\"Red subset shape: {red_subset.____}\")\n",
    "print(f\"NIR subset shape: {nir_subset.____}\")"
   ]
  },
  {
   "cell_type": "markdown",
   "id": "65a4f8b6",
   "metadata": {},
   "source": [
    "## 6. Performance Comparison - Full vs Partial Reads\n",
    "\n",
    "Here, we compare the performance between full image reads and partial reads from COGs. The goal is to highlight how direct and selective data access can significantly improve processing time and efficiency."
   ]
  },
  {
   "cell_type": "code",
   "execution_count": null,
   "id": "d69ab5d5-e47e-4c8b-b7e8-27442664fb31",
   "metadata": {},
   "outputs": [],
   "source": [
    "# Import libraries\n",
    "import ____  # For timing operations"
   ]
  },
  {
   "cell_type": "code",
   "execution_count": null,
   "id": "1f8eb0c0",
   "metadata": {},
   "outputs": [],
   "source": [
    "print(\"Comparing performance...\")\n",
    "\n",
    "# Function to time operations\n",
    "def time_operation(operation_name, operation_func):\n",
    "    start_time = time.time()\n",
    "    result = operation_func()\n",
    "    end_time = time.____()\n",
    "    duration = end_time - ____\n",
    "    print(f\"{operation_name}: {____:.2f} seconds\")\n",
    "    return result, duration\n",
    "\n",
    "# Test 1: Read a small subset (512x512 pixels)\n",
    "def read_subset():\n",
    "    with rasterio.open(red_url) as src:\n",
    "        window = Window(0, 0, ____, ____)  # Subset size 512x512\n",
    "        return src.____(1, ____=window)\n",
    "\n",
    "subset_data, subset_time = time_operation(\"Read 512x512 subset\", read_subset)\n",
    "\n",
    "# Test 2: Read entire band (be careful - this might be large!)\n",
    "def read_full():\n",
    "    with rasterio.open(red_url) as src:\n",
    "        return src.____(____)  # Read entire band\n",
    "\n",
    "full_data, full_time = time_operation(\"Read entire band\", read_full)\n",
    "\n",
    "# Test 3: Read with different overview levels\n",
    "def read_overview():\n",
    "    with rasterio.open(red_url) as src:\n",
    "        return src.____(____, out_shape=(____, ____))  # 256x256 output shape for overview\n",
    "\n",
    "overview_data, overview_time = time_operation(\"Read overview (lower res)\", read_overview)\n",
    "\n",
    "print(\"Notice how COGs allow fast access to different resolutions and subsets.\")"
   ]
  },
  {
   "cell_type": "markdown",
   "id": "00aee778",
   "metadata": {},
   "source": [
    "## 7. NDVI Calculation Using Direct Band Access\n",
    "\n",
    "We can calculate the Normalized Difference Vegetation Index (NDVI) using the directly accessed red and near-infrared bands. It will illustrate how cloud-optimized access enables seamless vegetation analysis without large downloads."
   ]
  },
  {
   "cell_type": "code",
   "execution_count": null,
   "id": "9a2d7f8a",
   "metadata": {},
   "outputs": [],
   "source": [
    "print(\"Calculating NDVI using direct band access...\")\n",
    "\n",
    "# Define the area for analysis (smaller subset for faster processing)\n",
    "analysis_window = ____(1000, 1000, ____, ____)  # Window size 800x800\n",
    "\n",
    "# Read Red and NIR bands for the same window\n",
    "with rasterio.open(red_url) as red_src:\n",
    "    red_data = red_src.read(1, ____=analysis_window)\n",
    "\n",
    "with rasterio.open(nir_url) as nir_src:\n",
    "    nir_data = nir_src.read(1, ____=analysis_window)\n",
    "\n",
    "# Calculate NDVI\n",
    "# NDVI = (NIR - Red) / (NIR + Red)\n",
    "ndvi = (nir_data - red_data) / (nir_data + red_data)\n",
    "\n",
    "print(f\"NDVI range: {ndvi.min():.3f} to {ndvi.max():.3f}\")\n",
    "print(f\"NDVI shape: {ndvi.shape}\")"
   ]
  },
  {
   "cell_type": "markdown",
   "id": "1324f22b-9eaf-42d9-b407-8c3d42eaf1c4",
   "metadata": {},
   "source": [
    "Now, display the result.\n",
    "\n",
    "Higher NDVI values (green) indicate healthier vegetation."
   ]
  },
  {
   "cell_type": "code",
   "execution_count": null,
   "id": "5ba52234-e94a-4fe6-8247-cd1244df396a",
   "metadata": {},
   "outputs": [],
   "source": [
    "# Import libraries\n",
    "import ____ as plt"
   ]
  },
  {
   "cell_type": "code",
   "execution_count": null,
   "id": "faba382e-fe8b-4658-8f0b-e57436494b13",
   "metadata": {},
   "outputs": [],
   "source": [
    "# Create visualization\n",
    "fig, axes = plt.____(1, 3, figsize=(15, 5))\n",
    "\n",
    "# Plot Red band\n",
    "axes[0].____(red_data, cmap='Reds')\n",
    "axes[0].set_title('Red Band')\n",
    "axes[0].axis('off')\n",
    "\n",
    "# Plot NIR band\n",
    "axes[1].____(nir_data, cmap='RdYlGn')\n",
    "axes[1].set_title('NIR Band')\n",
    "axes[1].axis('off')\n",
    "\n",
    "# Plot NDVI\n",
    "ndvi_plot = axes[2].____(ndvi, cmap='RdYlGn', vmin=-1, vmax=1)\n",
    "axes[2].set_title('NDVI')\n",
    "axes[2].axis('off')\n",
    "plt.colorbar(ndvi_plot, ax=axes[2], shrink=0.6)\n",
    "\n",
    "plt.tight_layout()\n",
    "plt.____()"
   ]
  },
  {
   "cell_type": "markdown",
   "id": "b346c379",
   "metadata": {},
   "source": [
    "## 8. Multi-Band RGB Composite\n",
    "\n",
    "Similarly, we can create an RGB composite image by combining multiple bands into a single visual representation. True color composite shows Amsterdam as it would appear to the human eye."
   ]
  },
  {
   "cell_type": "code",
   "execution_count": null,
   "id": "2d7d287e-c922-409e-afbe-b4aef4a0de44",
   "metadata": {},
   "outputs": [],
   "source": [
    "# Import libraries\n",
    "import ____ as np"
   ]
  },
  {
   "cell_type": "code",
   "execution_count": null,
   "id": "8ea5d36d",
   "metadata": {},
   "outputs": [],
   "source": [
    "print(\"Creating RGB composite using direct band access...\")\n",
    "\n",
    "# Get URLs for RGB bands\n",
    "red_url = item.assets[\"____\"].href    # Red band\n",
    "green_url = item.assets[\"____\"].href  # Green band\n",
    "blue_url = item.assets[\"____\"].href   # Blue band\n",
    "\n",
    "# Define window for RGB composite\n",
    "rgb_window = ____(2000, 2000, 1000, 1000)\n",
    "\n",
    "# Read all three bands\n",
    "with rasterio.open(red_url) as red_src:\n",
    "    red_band = red_src.____(1, ____=rgb_window)\n",
    "\n",
    "with rasterio.open(____) as green_src:\n",
    "    green_band = green_src.____(1, ____=rgb_window)\n",
    "\n",
    "with rasterio.open(____) as blue_src:\n",
    "    blue_band = blue_src.____(1, ____=rgb_window)\n",
    "\n",
    "# Normalize for visualization (scale to 0-255)\n",
    "def normalize_band(band, percentile=98):\n",
    "    # Use percentile scaling for better visualization\n",
    "    upper = np.percentile(band, percentile)\n",
    "    lower = np.percentile(band, 2)\n",
    "    return np.clip((band - lower) / (upper - lower) * 255, 0, 255).astype(np.uint8)\n",
    "\n",
    "# Normalize each band\n",
    "rgb_normalized = np.stack([\n",
    "    ____(red_band),\n",
    "    ____(green_band),\n",
    "    ____(blue_band)\n",
    "], axis=____)  # Axis 0 for band stacking\n",
    "\n",
    "# Display RGB composite\n",
    "plt.____(figsize=(10, 10))\n",
    "plt.imshow(rgb_normalized.transpose(____, ____, ____))  # Transpose for matplotlib\n",
    "plt.title('True Color RGB Composite', fontsize=14)\n",
    "plt.axis('off')\n",
    "plt.show()"
   ]
  },
  {
   "cell_type": "markdown",
   "id": "819402e4",
   "metadata": {},
   "source": [
    "## 9. Efficient Workflow for Multiple Items Analysis\n",
    "\n",
    "Finally, we can extend the workflow to handle multiple STAC items at once. This will enable us to automate and scale the analysis process for broader spatial or temporal studies using the same efficient techniques."
   ]
  },
  {
   "cell_type": "code",
   "execution_count": null,
   "id": "522ef66c",
   "metadata": {},
   "outputs": [],
   "source": [
    "print(\"Creating NDVI time series...\")\n",
    "\n",
    "# Search for more items over a longer time period\n",
    "time_series_search = catalog.search(\n",
    "    ____=[\"____\"],                 # Sentinel-2 L2A collection\n",
    "    bbox=____,                     # Amsterdam, Netherlands\n",
    "    ____=\"____/____\",              # May to August 2024\n",
    "    max_items=____,                # Maximum 10 items\n",
    "    ____={\"____\": {\"____\": ____}}  # Less than 30% cloud cover\n",
    ")\n",
    "\n",
    "time_series_items = list(time_series_search.____())\n",
    "print(f\"Found {len(____)} items for time series analysis.\")\n",
    "\n",
    "# Define a small area for consistent analysis\n",
    "analysis_window = Window(2500, 2500, 200, 200)\n",
    "\n",
    "# Function to calculate mean NDVI for an item\n",
    "def calculate_mean_ndvi(item, window):\n",
    "    try:\n",
    "        red_url = item.assets[\"____\"].____\n",
    "        nir_url = item.assets[\"____\"].____\n",
    "        \n",
    "        with rasterio.open(red_url) as red_src:\n",
    "            red_data = red_src.____(____, ____=window)\n",
    "        \n",
    "        with rasterio.open(nir_url) as nir_src:\n",
    "            nir_data = nir_src.____(____, ____=window)\n",
    "        \n",
    "        # Calculate NDVI\n",
    "        ndvi = (nir_data - red_data) / (nir_data + red_data + ____)  # Add small value to avoid division by zero\n",
    "        \n",
    "        # Return mean NDVI\n",
    "        return np.nanmean(ndvi)\n",
    "    \n",
    "    except Exception as e:\n",
    "        print(f\"Error processing item {item.id}: {e}\")\n",
    "        return None\n",
    "\n",
    "# Process each item to get time series data\n",
    "dates = []\n",
    "ndvi_values = []\n",
    "\n",
    "for item in time_series_items:\n",
    "    mean_ndvi = calculate_mean_ndvi(item, analysis_window)\n",
    "    if mean_ndvi is not None:\n",
    "        dates.____(item.____)\n",
    "        ndvi_values.____(____)\n",
    "        print(f\"{item.datetime.____('%Y-%m-%d')}: NDVI = {____:.3f}\")\n",
    "\n",
    "print(f\"Processed {len(ndvi_values)} valid observations\")\n",
    "print(f\"NDVI range: {min(ndvi_values):.3f} to {max(ndvi_values):.3f}\")\n",
    "print(f\"All data accessed directly from URLs, no local downloads required.\")"
   ]
  },
  {
   "cell_type": "markdown",
   "id": "fd6ded6f-9d6a-4049-b243-9a29d3a0d23d",
   "metadata": {},
   "source": [
    "Now, display the results."
   ]
  },
  {
   "cell_type": "code",
   "execution_count": null,
   "id": "6a5f107a-3b98-4bb1-ac06-a9c6a1847d5b",
   "metadata": {},
   "outputs": [],
   "source": [
    "# Create time series plot\n",
    "plt.figure(figsize=(12, 6))\n",
    "plt.plot(____, ____, 'go-', linewidth=2, markersize=8)\n",
    "plt.title('NDVI Time Series', fontsize=14)\n",
    "plt.xlabel('Date')\n",
    "plt.ylabel('Mean NDVI')\n",
    "plt.grid(True, alpha=0.3)\n",
    "plt.xticks(rotation=45)\n",
    "plt.tight_layout()\n",
    "plt.____()"
   ]
  },
  {
   "cell_type": "markdown",
   "id": "7fd12042",
   "metadata": {},
   "source": [
    "# Conclusion\n",
    "\n",
    "Congratulations, you have successfully completed the advanced STAC exercise!\n",
    "\n",
    "## What You've Learned\n",
    "\n",
    "1. **STAC + COG = Powerful Combination**: STAC provides discovery, COGs enable efficient access\n",
    "2. **Subset Reading**: Only read the data you need - saves time and bandwidth\n",
    "3. **No Downloads Required**: Process satellite data without local storage\n",
    "4. **Scalable Analysis**: Techniques work for small areas or global analysis\n",
    "5. **Multiple Resolutions**: Use overviews for quick analysis, full resolution for detailed work\n",
    "\n",
    "**Well done! You're now one step closer to build efficient, scalable satellite data analysis workflows!**"
   ]
  }
 ],
 "metadata": {
  "kernelspec": {
   "display_name": "Python 3 (ipykernel)",
   "language": "python",
   "name": "python3"
  },
  "language_info": {
   "codemirror_mode": {
    "name": "ipython",
    "version": 3
   },
   "file_extension": ".py",
   "mimetype": "text/x-python",
   "name": "python",
   "nbconvert_exporter": "python",
   "pygments_lexer": "ipython3",
   "version": "3.12.10"
  }
 },
 "nbformat": 4,
 "nbformat_minor": 5
}
